{
  "metadata": {
    "kernelspec": {
      "language": "python",
      "display_name": "Python 3",
      "name": "python3"
    },
    "language_info": {
      "pygments_lexer": "ipython3",
      "nbconvert_exporter": "python",
      "version": "3.6.4",
      "file_extension": ".py",
      "codemirror_mode": {
        "name": "ipython",
        "version": 3
      },
      "name": "python",
      "mimetype": "text/x-python"
    },
    "colab": {
      "provenance": []
    },
    "widgets": {
      "application/vnd.jupyter.widget-state+json": {
        "ffd963eb87de4891981e3d2bad4fbeae": {
          "model_module": "@jupyter-widgets/controls",
          "model_name": "VBoxModel",
          "model_module_version": "1.5.0",
          "state": {
            "_dom_classes": [
              "widget-interact"
            ],
            "_model_module": "@jupyter-widgets/controls",
            "_model_module_version": "1.5.0",
            "_model_name": "VBoxModel",
            "_view_count": null,
            "_view_module": "@jupyter-widgets/controls",
            "_view_module_version": "1.5.0",
            "_view_name": "VBoxView",
            "box_style": "",
            "children": [
              "IPY_MODEL_d94a37ddc1524ba68972f6c554da551f",
              "IPY_MODEL_f8cd8b293ba34501824e6f0025f13fd2",
              "IPY_MODEL_d29af5187a874c9db99777de3ac359bd",
              "IPY_MODEL_9b670b87279742d1bde042eceee61048"
            ],
            "layout": "IPY_MODEL_87f52fb07ed84a5dbcd36427d21bc089"
          }
        },
        "d94a37ddc1524ba68972f6c554da551f": {
          "model_module": "@jupyter-widgets/controls",
          "model_name": "FloatSliderModel",
          "model_module_version": "1.5.0",
          "state": {
            "_dom_classes": [],
            "_model_module": "@jupyter-widgets/controls",
            "_model_module_version": "1.5.0",
            "_model_name": "FloatSliderModel",
            "_view_count": null,
            "_view_module": "@jupyter-widgets/controls",
            "_view_module_version": "1.5.0",
            "_view_name": "FloatSliderView",
            "continuous_update": true,
            "description": "a",
            "description_tooltip": null,
            "disabled": false,
            "layout": "IPY_MODEL_8332a186e8094d80a43427f6793f5465",
            "max": 4.5,
            "min": -1.5,
            "orientation": "horizontal",
            "readout": true,
            "readout_format": ".2f",
            "step": 0.1,
            "style": "IPY_MODEL_1289da9e84344192bec0fa71e1a6f4c9",
            "value": 3.2
          }
        },
        "f8cd8b293ba34501824e6f0025f13fd2": {
          "model_module": "@jupyter-widgets/controls",
          "model_name": "FloatSliderModel",
          "model_module_version": "1.5.0",
          "state": {
            "_dom_classes": [],
            "_model_module": "@jupyter-widgets/controls",
            "_model_module_version": "1.5.0",
            "_model_name": "FloatSliderModel",
            "_view_count": null,
            "_view_module": "@jupyter-widgets/controls",
            "_view_module_version": "1.5.0",
            "_view_name": "FloatSliderView",
            "continuous_update": true,
            "description": "b",
            "description_tooltip": null,
            "disabled": false,
            "layout": "IPY_MODEL_421dd878deac4326b3e295cb10d5990b",
            "max": 4.5,
            "min": -1.5,
            "orientation": "horizontal",
            "readout": true,
            "readout_format": ".2f",
            "step": 0.1,
            "style": "IPY_MODEL_606fe6d27ed5427788332d26db5e7a6b",
            "value": 1.2
          }
        },
        "d29af5187a874c9db99777de3ac359bd": {
          "model_module": "@jupyter-widgets/controls",
          "model_name": "FloatSliderModel",
          "model_module_version": "1.5.0",
          "state": {
            "_dom_classes": [],
            "_model_module": "@jupyter-widgets/controls",
            "_model_module_version": "1.5.0",
            "_model_name": "FloatSliderModel",
            "_view_count": null,
            "_view_module": "@jupyter-widgets/controls",
            "_view_module_version": "1.5.0",
            "_view_name": "FloatSliderView",
            "continuous_update": true,
            "description": "c",
            "description_tooltip": null,
            "disabled": false,
            "layout": "IPY_MODEL_e56007ea632840f2a654c660ef3dc7c8",
            "max": 4.5,
            "min": -1.5,
            "orientation": "horizontal",
            "readout": true,
            "readout_format": ".2f",
            "step": 0.1,
            "style": "IPY_MODEL_8dd76225c1824de98443945befc2d41b",
            "value": 0.9
          }
        },
        "9b670b87279742d1bde042eceee61048": {
          "model_module": "@jupyter-widgets/output",
          "model_name": "OutputModel",
          "model_module_version": "1.0.0",
          "state": {
            "_dom_classes": [],
            "_model_module": "@jupyter-widgets/output",
            "_model_module_version": "1.0.0",
            "_model_name": "OutputModel",
            "_view_count": null,
            "_view_module": "@jupyter-widgets/output",
            "_view_module_version": "1.0.0",
            "_view_name": "OutputView",
            "layout": "IPY_MODEL_3bed49758971487094a84482b5281312",
            "msg_id": "",
            "outputs": [
              {
                "output_type": "display_data",
                "data": {
                  "text/plain": "<Figure size 576x432 with 1 Axes>",
                  "image/png": "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\n"
                },
                "metadata": {}
              }
            ]
          }
        },
        "87f52fb07ed84a5dbcd36427d21bc089": {
          "model_module": "@jupyter-widgets/base",
          "model_name": "LayoutModel",
          "model_module_version": "1.2.0",
          "state": {
            "_model_module": "@jupyter-widgets/base",
            "_model_module_version": "1.2.0",
            "_model_name": "LayoutModel",
            "_view_count": null,
            "_view_module": "@jupyter-widgets/base",
            "_view_module_version": "1.2.0",
            "_view_name": "LayoutView",
            "align_content": null,
            "align_items": null,
            "align_self": null,
            "border": null,
            "bottom": null,
            "display": null,
            "flex": null,
            "flex_flow": null,
            "grid_area": null,
            "grid_auto_columns": null,
            "grid_auto_flow": null,
            "grid_auto_rows": null,
            "grid_column": null,
            "grid_gap": null,
            "grid_row": null,
            "grid_template_areas": null,
            "grid_template_columns": null,
            "grid_template_rows": null,
            "height": null,
            "justify_content": null,
            "justify_items": null,
            "left": null,
            "margin": null,
            "max_height": null,
            "max_width": null,
            "min_height": null,
            "min_width": null,
            "object_fit": null,
            "object_position": null,
            "order": null,
            "overflow": null,
            "overflow_x": null,
            "overflow_y": null,
            "padding": null,
            "right": null,
            "top": null,
            "visibility": null,
            "width": null
          }
        },
        "8332a186e8094d80a43427f6793f5465": {
          "model_module": "@jupyter-widgets/base",
          "model_name": "LayoutModel",
          "model_module_version": "1.2.0",
          "state": {
            "_model_module": "@jupyter-widgets/base",
            "_model_module_version": "1.2.0",
            "_model_name": "LayoutModel",
            "_view_count": null,
            "_view_module": "@jupyter-widgets/base",
            "_view_module_version": "1.2.0",
            "_view_name": "LayoutView",
            "align_content": null,
            "align_items": null,
            "align_self": null,
            "border": null,
            "bottom": null,
            "display": null,
            "flex": null,
            "flex_flow": null,
            "grid_area": null,
            "grid_auto_columns": null,
            "grid_auto_flow": null,
            "grid_auto_rows": null,
            "grid_column": null,
            "grid_gap": null,
            "grid_row": null,
            "grid_template_areas": null,
            "grid_template_columns": null,
            "grid_template_rows": null,
            "height": null,
            "justify_content": null,
            "justify_items": null,
            "left": null,
            "margin": null,
            "max_height": null,
            "max_width": null,
            "min_height": null,
            "min_width": null,
            "object_fit": null,
            "object_position": null,
            "order": null,
            "overflow": null,
            "overflow_x": null,
            "overflow_y": null,
            "padding": null,
            "right": null,
            "top": null,
            "visibility": null,
            "width": null
          }
        },
        "1289da9e84344192bec0fa71e1a6f4c9": {
          "model_module": "@jupyter-widgets/controls",
          "model_name": "SliderStyleModel",
          "model_module_version": "1.5.0",
          "state": {
            "_model_module": "@jupyter-widgets/controls",
            "_model_module_version": "1.5.0",
            "_model_name": "SliderStyleModel",
            "_view_count": null,
            "_view_module": "@jupyter-widgets/base",
            "_view_module_version": "1.2.0",
            "_view_name": "StyleView",
            "description_width": "",
            "handle_color": null
          }
        },
        "421dd878deac4326b3e295cb10d5990b": {
          "model_module": "@jupyter-widgets/base",
          "model_name": "LayoutModel",
          "model_module_version": "1.2.0",
          "state": {
            "_model_module": "@jupyter-widgets/base",
            "_model_module_version": "1.2.0",
            "_model_name": "LayoutModel",
            "_view_count": null,
            "_view_module": "@jupyter-widgets/base",
            "_view_module_version": "1.2.0",
            "_view_name": "LayoutView",
            "align_content": null,
            "align_items": null,
            "align_self": null,
            "border": null,
            "bottom": null,
            "display": null,
            "flex": null,
            "flex_flow": null,
            "grid_area": null,
            "grid_auto_columns": null,
            "grid_auto_flow": null,
            "grid_auto_rows": null,
            "grid_column": null,
            "grid_gap": null,
            "grid_row": null,
            "grid_template_areas": null,
            "grid_template_columns": null,
            "grid_template_rows": null,
            "height": null,
            "justify_content": null,
            "justify_items": null,
            "left": null,
            "margin": null,
            "max_height": null,
            "max_width": null,
            "min_height": null,
            "min_width": null,
            "object_fit": null,
            "object_position": null,
            "order": null,
            "overflow": null,
            "overflow_x": null,
            "overflow_y": null,
            "padding": null,
            "right": null,
            "top": null,
            "visibility": null,
            "width": null
          }
        },
        "606fe6d27ed5427788332d26db5e7a6b": {
          "model_module": "@jupyter-widgets/controls",
          "model_name": "SliderStyleModel",
          "model_module_version": "1.5.0",
          "state": {
            "_model_module": "@jupyter-widgets/controls",
            "_model_module_version": "1.5.0",
            "_model_name": "SliderStyleModel",
            "_view_count": null,
            "_view_module": "@jupyter-widgets/base",
            "_view_module_version": "1.2.0",
            "_view_name": "StyleView",
            "description_width": "",
            "handle_color": null
          }
        },
        "e56007ea632840f2a654c660ef3dc7c8": {
          "model_module": "@jupyter-widgets/base",
          "model_name": "LayoutModel",
          "model_module_version": "1.2.0",
          "state": {
            "_model_module": "@jupyter-widgets/base",
            "_model_module_version": "1.2.0",
            "_model_name": "LayoutModel",
            "_view_count": null,
            "_view_module": "@jupyter-widgets/base",
            "_view_module_version": "1.2.0",
            "_view_name": "LayoutView",
            "align_content": null,
            "align_items": null,
            "align_self": null,
            "border": null,
            "bottom": null,
            "display": null,
            "flex": null,
            "flex_flow": null,
            "grid_area": null,
            "grid_auto_columns": null,
            "grid_auto_flow": null,
            "grid_auto_rows": null,
            "grid_column": null,
            "grid_gap": null,
            "grid_row": null,
            "grid_template_areas": null,
            "grid_template_columns": null,
            "grid_template_rows": null,
            "height": null,
            "justify_content": null,
            "justify_items": null,
            "left": null,
            "margin": null,
            "max_height": null,
            "max_width": null,
            "min_height": null,
            "min_width": null,
            "object_fit": null,
            "object_position": null,
            "order": null,
            "overflow": null,
            "overflow_x": null,
            "overflow_y": null,
            "padding": null,
            "right": null,
            "top": null,
            "visibility": null,
            "width": null
          }
        },
        "8dd76225c1824de98443945befc2d41b": {
          "model_module": "@jupyter-widgets/controls",
          "model_name": "SliderStyleModel",
          "model_module_version": "1.5.0",
          "state": {
            "_model_module": "@jupyter-widgets/controls",
            "_model_module_version": "1.5.0",
            "_model_name": "SliderStyleModel",
            "_view_count": null,
            "_view_module": "@jupyter-widgets/base",
            "_view_module_version": "1.2.0",
            "_view_name": "StyleView",
            "description_width": "",
            "handle_color": null
          }
        },
        "3bed49758971487094a84482b5281312": {
          "model_module": "@jupyter-widgets/base",
          "model_name": "LayoutModel",
          "model_module_version": "1.2.0",
          "state": {
            "_model_module": "@jupyter-widgets/base",
            "_model_module_version": "1.2.0",
            "_model_name": "LayoutModel",
            "_view_count": null,
            "_view_module": "@jupyter-widgets/base",
            "_view_module_version": "1.2.0",
            "_view_name": "LayoutView",
            "align_content": null,
            "align_items": null,
            "align_self": null,
            "border": null,
            "bottom": null,
            "display": null,
            "flex": null,
            "flex_flow": null,
            "grid_area": null,
            "grid_auto_columns": null,
            "grid_auto_flow": null,
            "grid_auto_rows": null,
            "grid_column": null,
            "grid_gap": null,
            "grid_row": null,
            "grid_template_areas": null,
            "grid_template_columns": null,
            "grid_template_rows": null,
            "height": null,
            "justify_content": null,
            "justify_items": null,
            "left": null,
            "margin": null,
            "max_height": null,
            "max_width": null,
            "min_height": null,
            "min_width": null,
            "object_fit": null,
            "object_position": null,
            "order": null,
            "overflow": null,
            "overflow_x": null,
            "overflow_y": null,
            "padding": null,
            "right": null,
            "top": null,
            "visibility": null,
            "width": null
          }
        },
        "3aae129311b14071a75ccc025ad241ea": {
          "model_module": "@jupyter-widgets/controls",
          "model_name": "VBoxModel",
          "model_module_version": "1.5.0",
          "state": {
            "_dom_classes": [
              "widget-interact"
            ],
            "_model_module": "@jupyter-widgets/controls",
            "_model_module_version": "1.5.0",
            "_model_name": "VBoxModel",
            "_view_count": null,
            "_view_module": "@jupyter-widgets/controls",
            "_view_module_version": "1.5.0",
            "_view_name": "VBoxView",
            "box_style": "",
            "children": [
              "IPY_MODEL_7c5185a9a5e04571ac5bd6c1d1d25770",
              "IPY_MODEL_4180c7fb99ce4543bade7d773fdf7596",
              "IPY_MODEL_da29d80313424914a5189c34bc29f6ae",
              "IPY_MODEL_855ddbaa95474105b54f36c01eafd1ee"
            ],
            "layout": "IPY_MODEL_1c2b49d93c37444a839becc7531a126f"
          }
        },
        "7c5185a9a5e04571ac5bd6c1d1d25770": {
          "model_module": "@jupyter-widgets/controls",
          "model_name": "FloatSliderModel",
          "model_module_version": "1.5.0",
          "state": {
            "_dom_classes": [],
            "_model_module": "@jupyter-widgets/controls",
            "_model_module_version": "1.5.0",
            "_model_name": "FloatSliderModel",
            "_view_count": null,
            "_view_module": "@jupyter-widgets/controls",
            "_view_module_version": "1.5.0",
            "_view_name": "FloatSliderView",
            "continuous_update": true,
            "description": "a",
            "description_tooltip": null,
            "disabled": false,
            "layout": "IPY_MODEL_b23a354d069b401880babbb6ca8a63ae",
            "max": 3.3000000000000003,
            "min": -1.1,
            "orientation": "horizontal",
            "readout": true,
            "readout_format": ".2f",
            "step": 0.1,
            "style": "IPY_MODEL_88fa8bee039941d19f9f2522c8b548cc",
            "value": 1.1
          }
        },
        "4180c7fb99ce4543bade7d773fdf7596": {
          "model_module": "@jupyter-widgets/controls",
          "model_name": "FloatSliderModel",
          "model_module_version": "1.5.0",
          "state": {
            "_dom_classes": [],
            "_model_module": "@jupyter-widgets/controls",
            "_model_module_version": "1.5.0",
            "_model_name": "FloatSliderModel",
            "_view_count": null,
            "_view_module": "@jupyter-widgets/controls",
            "_view_module_version": "1.5.0",
            "_view_name": "FloatSliderView",
            "continuous_update": true,
            "description": "b",
            "description_tooltip": null,
            "disabled": false,
            "layout": "IPY_MODEL_fc57005ebd064170ba9971121c96be33",
            "max": 3.3000000000000003,
            "min": -1.1,
            "orientation": "horizontal",
            "readout": true,
            "readout_format": ".2f",
            "step": 0.1,
            "style": "IPY_MODEL_d27ff5c4aa9d400585e505fc3385a275",
            "value": 1.1
          }
        },
        "da29d80313424914a5189c34bc29f6ae": {
          "model_module": "@jupyter-widgets/controls",
          "model_name": "FloatSliderModel",
          "model_module_version": "1.5.0",
          "state": {
            "_dom_classes": [],
            "_model_module": "@jupyter-widgets/controls",
            "_model_module_version": "1.5.0",
            "_model_name": "FloatSliderModel",
            "_view_count": null,
            "_view_module": "@jupyter-widgets/controls",
            "_view_module_version": "1.5.0",
            "_view_name": "FloatSliderView",
            "continuous_update": true,
            "description": "c",
            "description_tooltip": null,
            "disabled": false,
            "layout": "IPY_MODEL_7fd5bd3d14964914b5a54ed5231f141f",
            "max": 3.3000000000000003,
            "min": -1.1,
            "orientation": "horizontal",
            "readout": true,
            "readout_format": ".2f",
            "step": 0.1,
            "style": "IPY_MODEL_dd87639d119e4383b44e87994c26df24",
            "value": 1.1
          }
        },
        "855ddbaa95474105b54f36c01eafd1ee": {
          "model_module": "@jupyter-widgets/output",
          "model_name": "OutputModel",
          "model_module_version": "1.0.0",
          "state": {
            "_dom_classes": [],
            "_model_module": "@jupyter-widgets/output",
            "_model_module_version": "1.0.0",
            "_model_name": "OutputModel",
            "_view_count": null,
            "_view_module": "@jupyter-widgets/output",
            "_view_module_version": "1.0.0",
            "_view_name": "OutputView",
            "layout": "IPY_MODEL_463c207596d34baa8908b3f4628e5e08",
            "msg_id": "",
            "outputs": [
              {
                "output_type": "display_data",
                "data": {
                  "text/plain": "<Figure size 576x432 with 1 Axes>",
                  "image/png": "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\n"
                },
                "metadata": {}
              }
            ]
          }
        },
        "1c2b49d93c37444a839becc7531a126f": {
          "model_module": "@jupyter-widgets/base",
          "model_name": "LayoutModel",
          "model_module_version": "1.2.0",
          "state": {
            "_model_module": "@jupyter-widgets/base",
            "_model_module_version": "1.2.0",
            "_model_name": "LayoutModel",
            "_view_count": null,
            "_view_module": "@jupyter-widgets/base",
            "_view_module_version": "1.2.0",
            "_view_name": "LayoutView",
            "align_content": null,
            "align_items": null,
            "align_self": null,
            "border": null,
            "bottom": null,
            "display": null,
            "flex": null,
            "flex_flow": null,
            "grid_area": null,
            "grid_auto_columns": null,
            "grid_auto_flow": null,
            "grid_auto_rows": null,
            "grid_column": null,
            "grid_gap": null,
            "grid_row": null,
            "grid_template_areas": null,
            "grid_template_columns": null,
            "grid_template_rows": null,
            "height": null,
            "justify_content": null,
            "justify_items": null,
            "left": null,
            "margin": null,
            "max_height": null,
            "max_width": null,
            "min_height": null,
            "min_width": null,
            "object_fit": null,
            "object_position": null,
            "order": null,
            "overflow": null,
            "overflow_x": null,
            "overflow_y": null,
            "padding": null,
            "right": null,
            "top": null,
            "visibility": null,
            "width": null
          }
        },
        "b23a354d069b401880babbb6ca8a63ae": {
          "model_module": "@jupyter-widgets/base",
          "model_name": "LayoutModel",
          "model_module_version": "1.2.0",
          "state": {
            "_model_module": "@jupyter-widgets/base",
            "_model_module_version": "1.2.0",
            "_model_name": "LayoutModel",
            "_view_count": null,
            "_view_module": "@jupyter-widgets/base",
            "_view_module_version": "1.2.0",
            "_view_name": "LayoutView",
            "align_content": null,
            "align_items": null,
            "align_self": null,
            "border": null,
            "bottom": null,
            "display": null,
            "flex": null,
            "flex_flow": null,
            "grid_area": null,
            "grid_auto_columns": null,
            "grid_auto_flow": null,
            "grid_auto_rows": null,
            "grid_column": null,
            "grid_gap": null,
            "grid_row": null,
            "grid_template_areas": null,
            "grid_template_columns": null,
            "grid_template_rows": null,
            "height": null,
            "justify_content": null,
            "justify_items": null,
            "left": null,
            "margin": null,
            "max_height": null,
            "max_width": null,
            "min_height": null,
            "min_width": null,
            "object_fit": null,
            "object_position": null,
            "order": null,
            "overflow": null,
            "overflow_x": null,
            "overflow_y": null,
            "padding": null,
            "right": null,
            "top": null,
            "visibility": null,
            "width": null
          }
        },
        "88fa8bee039941d19f9f2522c8b548cc": {
          "model_module": "@jupyter-widgets/controls",
          "model_name": "SliderStyleModel",
          "model_module_version": "1.5.0",
          "state": {
            "_model_module": "@jupyter-widgets/controls",
            "_model_module_version": "1.5.0",
            "_model_name": "SliderStyleModel",
            "_view_count": null,
            "_view_module": "@jupyter-widgets/base",
            "_view_module_version": "1.2.0",
            "_view_name": "StyleView",
            "description_width": "",
            "handle_color": null
          }
        },
        "fc57005ebd064170ba9971121c96be33": {
          "model_module": "@jupyter-widgets/base",
          "model_name": "LayoutModel",
          "model_module_version": "1.2.0",
          "state": {
            "_model_module": "@jupyter-widgets/base",
            "_model_module_version": "1.2.0",
            "_model_name": "LayoutModel",
            "_view_count": null,
            "_view_module": "@jupyter-widgets/base",
            "_view_module_version": "1.2.0",
            "_view_name": "LayoutView",
            "align_content": null,
            "align_items": null,
            "align_self": null,
            "border": null,
            "bottom": null,
            "display": null,
            "flex": null,
            "flex_flow": null,
            "grid_area": null,
            "grid_auto_columns": null,
            "grid_auto_flow": null,
            "grid_auto_rows": null,
            "grid_column": null,
            "grid_gap": null,
            "grid_row": null,
            "grid_template_areas": null,
            "grid_template_columns": null,
            "grid_template_rows": null,
            "height": null,
            "justify_content": null,
            "justify_items": null,
            "left": null,
            "margin": null,
            "max_height": null,
            "max_width": null,
            "min_height": null,
            "min_width": null,
            "object_fit": null,
            "object_position": null,
            "order": null,
            "overflow": null,
            "overflow_x": null,
            "overflow_y": null,
            "padding": null,
            "right": null,
            "top": null,
            "visibility": null,
            "width": null
          }
        },
        "d27ff5c4aa9d400585e505fc3385a275": {
          "model_module": "@jupyter-widgets/controls",
          "model_name": "SliderStyleModel",
          "model_module_version": "1.5.0",
          "state": {
            "_model_module": "@jupyter-widgets/controls",
            "_model_module_version": "1.5.0",
            "_model_name": "SliderStyleModel",
            "_view_count": null,
            "_view_module": "@jupyter-widgets/base",
            "_view_module_version": "1.2.0",
            "_view_name": "StyleView",
            "description_width": "",
            "handle_color": null
          }
        },
        "7fd5bd3d14964914b5a54ed5231f141f": {
          "model_module": "@jupyter-widgets/base",
          "model_name": "LayoutModel",
          "model_module_version": "1.2.0",
          "state": {
            "_model_module": "@jupyter-widgets/base",
            "_model_module_version": "1.2.0",
            "_model_name": "LayoutModel",
            "_view_count": null,
            "_view_module": "@jupyter-widgets/base",
            "_view_module_version": "1.2.0",
            "_view_name": "LayoutView",
            "align_content": null,
            "align_items": null,
            "align_self": null,
            "border": null,
            "bottom": null,
            "display": null,
            "flex": null,
            "flex_flow": null,
            "grid_area": null,
            "grid_auto_columns": null,
            "grid_auto_flow": null,
            "grid_auto_rows": null,
            "grid_column": null,
            "grid_gap": null,
            "grid_row": null,
            "grid_template_areas": null,
            "grid_template_columns": null,
            "grid_template_rows": null,
            "height": null,
            "justify_content": null,
            "justify_items": null,
            "left": null,
            "margin": null,
            "max_height": null,
            "max_width": null,
            "min_height": null,
            "min_width": null,
            "object_fit": null,
            "object_position": null,
            "order": null,
            "overflow": null,
            "overflow_x": null,
            "overflow_y": null,
            "padding": null,
            "right": null,
            "top": null,
            "visibility": null,
            "width": null
          }
        },
        "dd87639d119e4383b44e87994c26df24": {
          "model_module": "@jupyter-widgets/controls",
          "model_name": "SliderStyleModel",
          "model_module_version": "1.5.0",
          "state": {
            "_model_module": "@jupyter-widgets/controls",
            "_model_module_version": "1.5.0",
            "_model_name": "SliderStyleModel",
            "_view_count": null,
            "_view_module": "@jupyter-widgets/base",
            "_view_module_version": "1.2.0",
            "_view_name": "StyleView",
            "description_width": "",
            "handle_color": null
          }
        },
        "463c207596d34baa8908b3f4628e5e08": {
          "model_module": "@jupyter-widgets/base",
          "model_name": "LayoutModel",
          "model_module_version": "1.2.0",
          "state": {
            "_model_module": "@jupyter-widgets/base",
            "_model_module_version": "1.2.0",
            "_model_name": "LayoutModel",
            "_view_count": null,
            "_view_module": "@jupyter-widgets/base",
            "_view_module_version": "1.2.0",
            "_view_name": "LayoutView",
            "align_content": null,
            "align_items": null,
            "align_self": null,
            "border": null,
            "bottom": null,
            "display": null,
            "flex": null,
            "flex_flow": null,
            "grid_area": null,
            "grid_auto_columns": null,
            "grid_auto_flow": null,
            "grid_auto_rows": null,
            "grid_column": null,
            "grid_gap": null,
            "grid_row": null,
            "grid_template_areas": null,
            "grid_template_columns": null,
            "grid_template_rows": null,
            "height": null,
            "justify_content": null,
            "justify_items": null,
            "left": null,
            "margin": null,
            "max_height": null,
            "max_width": null,
            "min_height": null,
            "min_width": null,
            "object_fit": null,
            "object_position": null,
            "order": null,
            "overflow": null,
            "overflow_x": null,
            "overflow_y": null,
            "padding": null,
            "right": null,
            "top": null,
            "visibility": null,
            "width": null
          }
        },
        "7f1afe740cf74de08b0d5184b60cdd04": {
          "model_module": "@jupyter-widgets/controls",
          "model_name": "VBoxModel",
          "model_module_version": "1.5.0",
          "state": {
            "_dom_classes": [
              "widget-interact"
            ],
            "_model_module": "@jupyter-widgets/controls",
            "_model_module_version": "1.5.0",
            "_model_name": "VBoxModel",
            "_view_count": null,
            "_view_module": "@jupyter-widgets/controls",
            "_view_module_version": "1.5.0",
            "_view_name": "VBoxView",
            "box_style": "",
            "children": [
              "IPY_MODEL_28425c0c38774a1a89fd0212f77528ee",
              "IPY_MODEL_50f6d5768c9044fdbca73a199d5117c5",
              "IPY_MODEL_4ee465917c8e46f095bf16fb839a4739"
            ],
            "layout": "IPY_MODEL_0c40f5d22c584368b08bc75207c5d0cc"
          }
        },
        "28425c0c38774a1a89fd0212f77528ee": {
          "model_module": "@jupyter-widgets/controls",
          "model_name": "FloatSliderModel",
          "model_module_version": "1.5.0",
          "state": {
            "_dom_classes": [],
            "_model_module": "@jupyter-widgets/controls",
            "_model_module_version": "1.5.0",
            "_model_name": "FloatSliderModel",
            "_view_count": null,
            "_view_module": "@jupyter-widgets/controls",
            "_view_module_version": "1.5.0",
            "_view_name": "FloatSliderView",
            "continuous_update": true,
            "description": "m",
            "description_tooltip": null,
            "disabled": false,
            "layout": "IPY_MODEL_87cf9cee58214ff18ebb88537682de1b",
            "max": 4.5,
            "min": -1.5,
            "orientation": "horizontal",
            "readout": true,
            "readout_format": ".2f",
            "step": 0.1,
            "style": "IPY_MODEL_f022338c6a9e4160930e40a402a7ff4d",
            "value": 1.6
          }
        },
        "50f6d5768c9044fdbca73a199d5117c5": {
          "model_module": "@jupyter-widgets/controls",
          "model_name": "FloatSliderModel",
          "model_module_version": "1.5.0",
          "state": {
            "_dom_classes": [],
            "_model_module": "@jupyter-widgets/controls",
            "_model_module_version": "1.5.0",
            "_model_name": "FloatSliderModel",
            "_view_count": null,
            "_view_module": "@jupyter-widgets/controls",
            "_view_module_version": "1.5.0",
            "_view_name": "FloatSliderView",
            "continuous_update": true,
            "description": "b",
            "description_tooltip": null,
            "disabled": false,
            "layout": "IPY_MODEL_fbcaf216c5d541fda961a43a2cac1a81",
            "max": 4.5,
            "min": -1.5,
            "orientation": "horizontal",
            "readout": true,
            "readout_format": ".2f",
            "step": 0.1,
            "style": "IPY_MODEL_9ee8ee650fd644afa626162f13b47cf7",
            "value": 0.7
          }
        },
        "4ee465917c8e46f095bf16fb839a4739": {
          "model_module": "@jupyter-widgets/output",
          "model_name": "OutputModel",
          "model_module_version": "1.0.0",
          "state": {
            "_dom_classes": [],
            "_model_module": "@jupyter-widgets/output",
            "_model_module_version": "1.0.0",
            "_model_name": "OutputModel",
            "_view_count": null,
            "_view_module": "@jupyter-widgets/output",
            "_view_module_version": "1.0.0",
            "_view_name": "OutputView",
            "layout": "IPY_MODEL_480501f43955467b97c929968a345425",
            "msg_id": "",
            "outputs": [
              {
                "output_type": "display_data",
                "data": {
                  "text/plain": "<Figure size 576x432 with 1 Axes>",
                  "image/png": "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\n"
                },
                "metadata": {}
              }
            ]
          }
        },
        "0c40f5d22c584368b08bc75207c5d0cc": {
          "model_module": "@jupyter-widgets/base",
          "model_name": "LayoutModel",
          "model_module_version": "1.2.0",
          "state": {
            "_model_module": "@jupyter-widgets/base",
            "_model_module_version": "1.2.0",
            "_model_name": "LayoutModel",
            "_view_count": null,
            "_view_module": "@jupyter-widgets/base",
            "_view_module_version": "1.2.0",
            "_view_name": "LayoutView",
            "align_content": null,
            "align_items": null,
            "align_self": null,
            "border": null,
            "bottom": null,
            "display": null,
            "flex": null,
            "flex_flow": null,
            "grid_area": null,
            "grid_auto_columns": null,
            "grid_auto_flow": null,
            "grid_auto_rows": null,
            "grid_column": null,
            "grid_gap": null,
            "grid_row": null,
            "grid_template_areas": null,
            "grid_template_columns": null,
            "grid_template_rows": null,
            "height": null,
            "justify_content": null,
            "justify_items": null,
            "left": null,
            "margin": null,
            "max_height": null,
            "max_width": null,
            "min_height": null,
            "min_width": null,
            "object_fit": null,
            "object_position": null,
            "order": null,
            "overflow": null,
            "overflow_x": null,
            "overflow_y": null,
            "padding": null,
            "right": null,
            "top": null,
            "visibility": null,
            "width": null
          }
        },
        "87cf9cee58214ff18ebb88537682de1b": {
          "model_module": "@jupyter-widgets/base",
          "model_name": "LayoutModel",
          "model_module_version": "1.2.0",
          "state": {
            "_model_module": "@jupyter-widgets/base",
            "_model_module_version": "1.2.0",
            "_model_name": "LayoutModel",
            "_view_count": null,
            "_view_module": "@jupyter-widgets/base",
            "_view_module_version": "1.2.0",
            "_view_name": "LayoutView",
            "align_content": null,
            "align_items": null,
            "align_self": null,
            "border": null,
            "bottom": null,
            "display": null,
            "flex": null,
            "flex_flow": null,
            "grid_area": null,
            "grid_auto_columns": null,
            "grid_auto_flow": null,
            "grid_auto_rows": null,
            "grid_column": null,
            "grid_gap": null,
            "grid_row": null,
            "grid_template_areas": null,
            "grid_template_columns": null,
            "grid_template_rows": null,
            "height": null,
            "justify_content": null,
            "justify_items": null,
            "left": null,
            "margin": null,
            "max_height": null,
            "max_width": null,
            "min_height": null,
            "min_width": null,
            "object_fit": null,
            "object_position": null,
            "order": null,
            "overflow": null,
            "overflow_x": null,
            "overflow_y": null,
            "padding": null,
            "right": null,
            "top": null,
            "visibility": null,
            "width": null
          }
        },
        "f022338c6a9e4160930e40a402a7ff4d": {
          "model_module": "@jupyter-widgets/controls",
          "model_name": "SliderStyleModel",
          "model_module_version": "1.5.0",
          "state": {
            "_model_module": "@jupyter-widgets/controls",
            "_model_module_version": "1.5.0",
            "_model_name": "SliderStyleModel",
            "_view_count": null,
            "_view_module": "@jupyter-widgets/base",
            "_view_module_version": "1.2.0",
            "_view_name": "StyleView",
            "description_width": "",
            "handle_color": null
          }
        },
        "fbcaf216c5d541fda961a43a2cac1a81": {
          "model_module": "@jupyter-widgets/base",
          "model_name": "LayoutModel",
          "model_module_version": "1.2.0",
          "state": {
            "_model_module": "@jupyter-widgets/base",
            "_model_module_version": "1.2.0",
            "_model_name": "LayoutModel",
            "_view_count": null,
            "_view_module": "@jupyter-widgets/base",
            "_view_module_version": "1.2.0",
            "_view_name": "LayoutView",
            "align_content": null,
            "align_items": null,
            "align_self": null,
            "border": null,
            "bottom": null,
            "display": null,
            "flex": null,
            "flex_flow": null,
            "grid_area": null,
            "grid_auto_columns": null,
            "grid_auto_flow": null,
            "grid_auto_rows": null,
            "grid_column": null,
            "grid_gap": null,
            "grid_row": null,
            "grid_template_areas": null,
            "grid_template_columns": null,
            "grid_template_rows": null,
            "height": null,
            "justify_content": null,
            "justify_items": null,
            "left": null,
            "margin": null,
            "max_height": null,
            "max_width": null,
            "min_height": null,
            "min_width": null,
            "object_fit": null,
            "object_position": null,
            "order": null,
            "overflow": null,
            "overflow_x": null,
            "overflow_y": null,
            "padding": null,
            "right": null,
            "top": null,
            "visibility": null,
            "width": null
          }
        },
        "9ee8ee650fd644afa626162f13b47cf7": {
          "model_module": "@jupyter-widgets/controls",
          "model_name": "SliderStyleModel",
          "model_module_version": "1.5.0",
          "state": {
            "_model_module": "@jupyter-widgets/controls",
            "_model_module_version": "1.5.0",
            "_model_name": "SliderStyleModel",
            "_view_count": null,
            "_view_module": "@jupyter-widgets/base",
            "_view_module_version": "1.2.0",
            "_view_name": "StyleView",
            "description_width": "",
            "handle_color": null
          }
        },
        "480501f43955467b97c929968a345425": {
          "model_module": "@jupyter-widgets/base",
          "model_name": "LayoutModel",
          "model_module_version": "1.2.0",
          "state": {
            "_model_module": "@jupyter-widgets/base",
            "_model_module_version": "1.2.0",
            "_model_name": "LayoutModel",
            "_view_count": null,
            "_view_module": "@jupyter-widgets/base",
            "_view_module_version": "1.2.0",
            "_view_name": "LayoutView",
            "align_content": null,
            "align_items": null,
            "align_self": null,
            "border": null,
            "bottom": null,
            "display": null,
            "flex": null,
            "flex_flow": null,
            "grid_area": null,
            "grid_auto_columns": null,
            "grid_auto_flow": null,
            "grid_auto_rows": null,
            "grid_column": null,
            "grid_gap": null,
            "grid_row": null,
            "grid_template_areas": null,
            "grid_template_columns": null,
            "grid_template_rows": null,
            "height": null,
            "justify_content": null,
            "justify_items": null,
            "left": null,
            "margin": null,
            "max_height": null,
            "max_width": null,
            "min_height": null,
            "min_width": null,
            "object_fit": null,
            "object_position": null,
            "order": null,
            "overflow": null,
            "overflow_x": null,
            "overflow_y": null,
            "padding": null,
            "right": null,
            "top": null,
            "visibility": null,
            "width": null
          }
        },
        "60f455a7b39d4fe0b12bc202039d0054": {
          "model_module": "@jupyter-widgets/controls",
          "model_name": "VBoxModel",
          "model_module_version": "1.5.0",
          "state": {
            "_dom_classes": [
              "widget-interact"
            ],
            "_model_module": "@jupyter-widgets/controls",
            "_model_module_version": "1.5.0",
            "_model_name": "VBoxModel",
            "_view_count": null,
            "_view_module": "@jupyter-widgets/controls",
            "_view_module_version": "1.5.0",
            "_view_name": "VBoxView",
            "box_style": "",
            "children": [
              "IPY_MODEL_a05a66526a7040d3a36a526cfdf44b13",
              "IPY_MODEL_401609c8ce8c4a5fa31652d5fe3e4ebe",
              "IPY_MODEL_4a261a3c6ba64275a1371d136979e3f6",
              "IPY_MODEL_b5e3a60559fd49f5a789c3f7480db94c",
              "IPY_MODEL_51dca388f6124c2aa329718d587682e9"
            ],
            "layout": "IPY_MODEL_da7345ca79da4bb88bfabfbe9721116f"
          }
        },
        "a05a66526a7040d3a36a526cfdf44b13": {
          "model_module": "@jupyter-widgets/controls",
          "model_name": "FloatSliderModel",
          "model_module_version": "1.5.0",
          "state": {
            "_dom_classes": [],
            "_model_module": "@jupyter-widgets/controls",
            "_model_module_version": "1.5.0",
            "_model_name": "FloatSliderModel",
            "_view_count": null,
            "_view_module": "@jupyter-widgets/controls",
            "_view_module_version": "1.5.0",
            "_view_name": "FloatSliderView",
            "continuous_update": true,
            "description": "m1",
            "description_tooltip": null,
            "disabled": false,
            "layout": "IPY_MODEL_1a81271f7d5242f8b2a73a24c8b489df",
            "max": 1.5,
            "min": -4.5,
            "orientation": "horizontal",
            "readout": true,
            "readout_format": ".2f",
            "step": 0.1,
            "style": "IPY_MODEL_5a6abb72224a4d438de0a18834acc6f1",
            "value": -3
          }
        },
        "401609c8ce8c4a5fa31652d5fe3e4ebe": {
          "model_module": "@jupyter-widgets/controls",
          "model_name": "FloatSliderModel",
          "model_module_version": "1.5.0",
          "state": {
            "_dom_classes": [],
            "_model_module": "@jupyter-widgets/controls",
            "_model_module_version": "1.5.0",
            "_model_name": "FloatSliderModel",
            "_view_count": null,
            "_view_module": "@jupyter-widgets/controls",
            "_view_module_version": "1.5.0",
            "_view_name": "FloatSliderView",
            "continuous_update": true,
            "description": "b1",
            "description_tooltip": null,
            "disabled": false,
            "layout": "IPY_MODEL_d3e2c93b2caf44d7a2c18fa79146d769",
            "max": 1.5,
            "min": -4.5,
            "orientation": "horizontal",
            "readout": true,
            "readout_format": ".2f",
            "step": 0.1,
            "style": "IPY_MODEL_a29122f3745047048925dabc960f19ce",
            "value": -0.6
          }
        },
        "4a261a3c6ba64275a1371d136979e3f6": {
          "model_module": "@jupyter-widgets/controls",
          "model_name": "FloatSliderModel",
          "model_module_version": "1.5.0",
          "state": {
            "_dom_classes": [],
            "_model_module": "@jupyter-widgets/controls",
            "_model_module_version": "1.5.0",
            "_model_name": "FloatSliderModel",
            "_view_count": null,
            "_view_module": "@jupyter-widgets/controls",
            "_view_module_version": "1.5.0",
            "_view_name": "FloatSliderView",
            "continuous_update": true,
            "description": "m2",
            "description_tooltip": null,
            "disabled": false,
            "layout": "IPY_MODEL_5691c1140f194086a1070f231a642699",
            "max": 4.5,
            "min": -1.5,
            "orientation": "horizontal",
            "readout": true,
            "readout_format": ".2f",
            "step": 0.1,
            "style": "IPY_MODEL_957d43dcacf445ffa77f8b13253de55e",
            "value": 2.2
          }
        },
        "b5e3a60559fd49f5a789c3f7480db94c": {
          "model_module": "@jupyter-widgets/controls",
          "model_name": "FloatSliderModel",
          "model_module_version": "1.5.0",
          "state": {
            "_dom_classes": [],
            "_model_module": "@jupyter-widgets/controls",
            "_model_module_version": "1.5.0",
            "_model_name": "FloatSliderModel",
            "_view_count": null,
            "_view_module": "@jupyter-widgets/controls",
            "_view_module_version": "1.5.0",
            "_view_name": "FloatSliderView",
            "continuous_update": true,
            "description": "b2",
            "description_tooltip": null,
            "disabled": false,
            "layout": "IPY_MODEL_fe6d2cd253e14e6eaad98f017e63dd23",
            "max": 4.5,
            "min": -1.5,
            "orientation": "horizontal",
            "readout": true,
            "readout_format": ".2f",
            "step": 0.1,
            "style": "IPY_MODEL_7410b8468f32409bbff19192b487d13d",
            "value": 2.8
          }
        },
        "51dca388f6124c2aa329718d587682e9": {
          "model_module": "@jupyter-widgets/output",
          "model_name": "OutputModel",
          "model_module_version": "1.0.0",
          "state": {
            "_dom_classes": [],
            "_model_module": "@jupyter-widgets/output",
            "_model_module_version": "1.0.0",
            "_model_name": "OutputModel",
            "_view_count": null,
            "_view_module": "@jupyter-widgets/output",
            "_view_module_version": "1.0.0",
            "_view_name": "OutputView",
            "layout": "IPY_MODEL_1659090599924280a67d3a9a3c1c77bf",
            "msg_id": "",
            "outputs": [
              {
                "output_type": "display_data",
                "data": {
                  "text/plain": "<Figure size 576x432 with 1 Axes>",
                  "image/png": "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\n"
                },
                "metadata": {}
              }
            ]
          }
        },
        "da7345ca79da4bb88bfabfbe9721116f": {
          "model_module": "@jupyter-widgets/base",
          "model_name": "LayoutModel",
          "model_module_version": "1.2.0",
          "state": {
            "_model_module": "@jupyter-widgets/base",
            "_model_module_version": "1.2.0",
            "_model_name": "LayoutModel",
            "_view_count": null,
            "_view_module": "@jupyter-widgets/base",
            "_view_module_version": "1.2.0",
            "_view_name": "LayoutView",
            "align_content": null,
            "align_items": null,
            "align_self": null,
            "border": null,
            "bottom": null,
            "display": null,
            "flex": null,
            "flex_flow": null,
            "grid_area": null,
            "grid_auto_columns": null,
            "grid_auto_flow": null,
            "grid_auto_rows": null,
            "grid_column": null,
            "grid_gap": null,
            "grid_row": null,
            "grid_template_areas": null,
            "grid_template_columns": null,
            "grid_template_rows": null,
            "height": null,
            "justify_content": null,
            "justify_items": null,
            "left": null,
            "margin": null,
            "max_height": null,
            "max_width": null,
            "min_height": null,
            "min_width": null,
            "object_fit": null,
            "object_position": null,
            "order": null,
            "overflow": null,
            "overflow_x": null,
            "overflow_y": null,
            "padding": null,
            "right": null,
            "top": null,
            "visibility": null,
            "width": null
          }
        },
        "1a81271f7d5242f8b2a73a24c8b489df": {
          "model_module": "@jupyter-widgets/base",
          "model_name": "LayoutModel",
          "model_module_version": "1.2.0",
          "state": {
            "_model_module": "@jupyter-widgets/base",
            "_model_module_version": "1.2.0",
            "_model_name": "LayoutModel",
            "_view_count": null,
            "_view_module": "@jupyter-widgets/base",
            "_view_module_version": "1.2.0",
            "_view_name": "LayoutView",
            "align_content": null,
            "align_items": null,
            "align_self": null,
            "border": null,
            "bottom": null,
            "display": null,
            "flex": null,
            "flex_flow": null,
            "grid_area": null,
            "grid_auto_columns": null,
            "grid_auto_flow": null,
            "grid_auto_rows": null,
            "grid_column": null,
            "grid_gap": null,
            "grid_row": null,
            "grid_template_areas": null,
            "grid_template_columns": null,
            "grid_template_rows": null,
            "height": null,
            "justify_content": null,
            "justify_items": null,
            "left": null,
            "margin": null,
            "max_height": null,
            "max_width": null,
            "min_height": null,
            "min_width": null,
            "object_fit": null,
            "object_position": null,
            "order": null,
            "overflow": null,
            "overflow_x": null,
            "overflow_y": null,
            "padding": null,
            "right": null,
            "top": null,
            "visibility": null,
            "width": null
          }
        },
        "5a6abb72224a4d438de0a18834acc6f1": {
          "model_module": "@jupyter-widgets/controls",
          "model_name": "SliderStyleModel",
          "model_module_version": "1.5.0",
          "state": {
            "_model_module": "@jupyter-widgets/controls",
            "_model_module_version": "1.5.0",
            "_model_name": "SliderStyleModel",
            "_view_count": null,
            "_view_module": "@jupyter-widgets/base",
            "_view_module_version": "1.2.0",
            "_view_name": "StyleView",
            "description_width": "",
            "handle_color": null
          }
        },
        "d3e2c93b2caf44d7a2c18fa79146d769": {
          "model_module": "@jupyter-widgets/base",
          "model_name": "LayoutModel",
          "model_module_version": "1.2.0",
          "state": {
            "_model_module": "@jupyter-widgets/base",
            "_model_module_version": "1.2.0",
            "_model_name": "LayoutModel",
            "_view_count": null,
            "_view_module": "@jupyter-widgets/base",
            "_view_module_version": "1.2.0",
            "_view_name": "LayoutView",
            "align_content": null,
            "align_items": null,
            "align_self": null,
            "border": null,
            "bottom": null,
            "display": null,
            "flex": null,
            "flex_flow": null,
            "grid_area": null,
            "grid_auto_columns": null,
            "grid_auto_flow": null,
            "grid_auto_rows": null,
            "grid_column": null,
            "grid_gap": null,
            "grid_row": null,
            "grid_template_areas": null,
            "grid_template_columns": null,
            "grid_template_rows": null,
            "height": null,
            "justify_content": null,
            "justify_items": null,
            "left": null,
            "margin": null,
            "max_height": null,
            "max_width": null,
            "min_height": null,
            "min_width": null,
            "object_fit": null,
            "object_position": null,
            "order": null,
            "overflow": null,
            "overflow_x": null,
            "overflow_y": null,
            "padding": null,
            "right": null,
            "top": null,
            "visibility": null,
            "width": null
          }
        },
        "a29122f3745047048925dabc960f19ce": {
          "model_module": "@jupyter-widgets/controls",
          "model_name": "SliderStyleModel",
          "model_module_version": "1.5.0",
          "state": {
            "_model_module": "@jupyter-widgets/controls",
            "_model_module_version": "1.5.0",
            "_model_name": "SliderStyleModel",
            "_view_count": null,
            "_view_module": "@jupyter-widgets/base",
            "_view_module_version": "1.2.0",
            "_view_name": "StyleView",
            "description_width": "",
            "handle_color": null
          }
        },
        "5691c1140f194086a1070f231a642699": {
          "model_module": "@jupyter-widgets/base",
          "model_name": "LayoutModel",
          "model_module_version": "1.2.0",
          "state": {
            "_model_module": "@jupyter-widgets/base",
            "_model_module_version": "1.2.0",
            "_model_name": "LayoutModel",
            "_view_count": null,
            "_view_module": "@jupyter-widgets/base",
            "_view_module_version": "1.2.0",
            "_view_name": "LayoutView",
            "align_content": null,
            "align_items": null,
            "align_self": null,
            "border": null,
            "bottom": null,
            "display": null,
            "flex": null,
            "flex_flow": null,
            "grid_area": null,
            "grid_auto_columns": null,
            "grid_auto_flow": null,
            "grid_auto_rows": null,
            "grid_column": null,
            "grid_gap": null,
            "grid_row": null,
            "grid_template_areas": null,
            "grid_template_columns": null,
            "grid_template_rows": null,
            "height": null,
            "justify_content": null,
            "justify_items": null,
            "left": null,
            "margin": null,
            "max_height": null,
            "max_width": null,
            "min_height": null,
            "min_width": null,
            "object_fit": null,
            "object_position": null,
            "order": null,
            "overflow": null,
            "overflow_x": null,
            "overflow_y": null,
            "padding": null,
            "right": null,
            "top": null,
            "visibility": null,
            "width": null
          }
        },
        "957d43dcacf445ffa77f8b13253de55e": {
          "model_module": "@jupyter-widgets/controls",
          "model_name": "SliderStyleModel",
          "model_module_version": "1.5.0",
          "state": {
            "_model_module": "@jupyter-widgets/controls",
            "_model_module_version": "1.5.0",
            "_model_name": "SliderStyleModel",
            "_view_count": null,
            "_view_module": "@jupyter-widgets/base",
            "_view_module_version": "1.2.0",
            "_view_name": "StyleView",
            "description_width": "",
            "handle_color": null
          }
        },
        "fe6d2cd253e14e6eaad98f017e63dd23": {
          "model_module": "@jupyter-widgets/base",
          "model_name": "LayoutModel",
          "model_module_version": "1.2.0",
          "state": {
            "_model_module": "@jupyter-widgets/base",
            "_model_module_version": "1.2.0",
            "_model_name": "LayoutModel",
            "_view_count": null,
            "_view_module": "@jupyter-widgets/base",
            "_view_module_version": "1.2.0",
            "_view_name": "LayoutView",
            "align_content": null,
            "align_items": null,
            "align_self": null,
            "border": null,
            "bottom": null,
            "display": null,
            "flex": null,
            "flex_flow": null,
            "grid_area": null,
            "grid_auto_columns": null,
            "grid_auto_flow": null,
            "grid_auto_rows": null,
            "grid_column": null,
            "grid_gap": null,
            "grid_row": null,
            "grid_template_areas": null,
            "grid_template_columns": null,
            "grid_template_rows": null,
            "height": null,
            "justify_content": null,
            "justify_items": null,
            "left": null,
            "margin": null,
            "max_height": null,
            "max_width": null,
            "min_height": null,
            "min_width": null,
            "object_fit": null,
            "object_position": null,
            "order": null,
            "overflow": null,
            "overflow_x": null,
            "overflow_y": null,
            "padding": null,
            "right": null,
            "top": null,
            "visibility": null,
            "width": null
          }
        },
        "7410b8468f32409bbff19192b487d13d": {
          "model_module": "@jupyter-widgets/controls",
          "model_name": "SliderStyleModel",
          "model_module_version": "1.5.0",
          "state": {
            "_model_module": "@jupyter-widgets/controls",
            "_model_module_version": "1.5.0",
            "_model_name": "SliderStyleModel",
            "_view_count": null,
            "_view_module": "@jupyter-widgets/base",
            "_view_module_version": "1.2.0",
            "_view_name": "StyleView",
            "description_width": "",
            "handle_color": null
          }
        },
        "1659090599924280a67d3a9a3c1c77bf": {
          "model_module": "@jupyter-widgets/base",
          "model_name": "LayoutModel",
          "model_module_version": "1.2.0",
          "state": {
            "_model_module": "@jupyter-widgets/base",
            "_model_module_version": "1.2.0",
            "_model_name": "LayoutModel",
            "_view_count": null,
            "_view_module": "@jupyter-widgets/base",
            "_view_module_version": "1.2.0",
            "_view_name": "LayoutView",
            "align_content": null,
            "align_items": null,
            "align_self": null,
            "border": null,
            "bottom": null,
            "display": null,
            "flex": null,
            "flex_flow": null,
            "grid_area": null,
            "grid_auto_columns": null,
            "grid_auto_flow": null,
            "grid_auto_rows": null,
            "grid_column": null,
            "grid_gap": null,
            "grid_row": null,
            "grid_template_areas": null,
            "grid_template_columns": null,
            "grid_template_rows": null,
            "height": null,
            "justify_content": null,
            "justify_items": null,
            "left": null,
            "margin": null,
            "max_height": null,
            "max_width": null,
            "min_height": null,
            "min_width": null,
            "object_fit": null,
            "object_position": null,
            "order": null,
            "overflow": null,
            "overflow_x": null,
            "overflow_y": null,
            "padding": null,
            "right": null,
            "top": null,
            "visibility": null,
            "width": null
          }
        }
      }
    }
  },
  "nbformat_minor": 0,
  "nbformat": 4,
  "cells": [
    {
      "cell_type": "markdown",
      "source": [
        "**Important**: The interactive features of this notebook don't work in Kaggle's *Reader* mode. They only work in *Edit* mode. Therefore, before starting reading this, please click \"**Copy & Edit**\" in the top right of this window, then in the menu click *Run* and then *Run all*. Then you'll be able to use all the interactive sliders in this notebook."
      ],
      "metadata": {
        "id": "NkqhuZOzpltm"
      }
    },
    {
      "cell_type": "markdown",
      "source": [
        "## Fitting a function with *gradient descent*"
      ],
      "metadata": {
        "id": "LpHO543Qpltp"
      }
    },
    {
      "cell_type": "markdown",
      "source": [
        "A neural network is just a mathematical function. In the most standard kind of neural network, the function:\n",
        "\n",
        "1. Multiplies each input by a number of values. These values are known as *parameters*\n",
        "1. Adds them up for each group of values\n",
        "1. Replaces the negative numbers with zeros\n",
        "\n",
        "This represents one \"layer\". Then these three steps are repeated, using the outputs of the previous layer as the inputs to the next layer. Initially, the parameters in this function are selected randomly. Therefore a newly created neural network doesn't do anything useful at all -- it's just random!\n",
        "\n",
        "To get the function to \"learn\" to do something useful, we have to change the parameters to make them \"better\" in some way. We do this using *gradient descent*. Let's see how this works..."
      ],
      "metadata": {
        "id": "ZBrwvZKxpltp"
      }
    },
    {
      "cell_type": "code",
      "source": [
        "from ipywidgets import interact\n",
        "from fastai.basics import *\n",
        "\n",
        "plt.rc('figure', dpi=90)\n",
        "\n",
        "def plot_function(f, title=None, min=-2.1, max=2.1, color='r', ylim=None):\n",
        "    x = torch.linspace(min,max, 100)[:,None]\n",
        "    if ylim: plt.ylim(ylim)\n",
        "    plt.plot(x, f(x), color)\n",
        "    if title is not None: plt.title(title)\n",
        ""
      ],
      "metadata": {
        "_kg_hide-input": true,
        "execution": {
          "iopub.status.busy": "2022-04-23T08:54:34.585263Z",
          "iopub.execute_input": "2022-04-23T08:54:34.587766Z",
          "iopub.status.idle": "2022-04-23T08:54:36.961606Z",
          "shell.execute_reply.started": "2022-04-23T08:54:34.587646Z",
          "shell.execute_reply": "2022-04-23T08:54:36.960846Z"
        },
        "trusted": true,
        "id": "m-0sXNROpltq"
      },
      "execution_count": 65,
      "outputs": []
    },
    {
      "cell_type": "markdown",
      "source": [
        "To learn how gradient descent works, we're going to start by fitting a quadratic, since that's a function most of us are probably more familiar with than a neural network. Here's the quadratic we're going to try to fit:"
      ],
      "metadata": {
        "id": "ZiypdUNGpltt"
      }
    },
    {
      "cell_type": "code",
      "source": [
        "def f(x): return 3*x**2 + 2*x + 1\n",
        "\n",
        "def g(m,x,b): return m*x + b\n",
        "\n",
        "plot_function(f, \"$3x^2 + 2x + 1$\")\n",
        "#plot_function(g(1,2,3), \"$m*x + b$\")"
      ],
      "metadata": {
        "execution": {
          "iopub.status.busy": "2022-04-23T08:54:36.963135Z",
          "iopub.execute_input": "2022-04-23T08:54:36.96361Z",
          "iopub.status.idle": "2022-04-23T08:54:37.603953Z",
          "shell.execute_reply.started": "2022-04-23T08:54:36.963574Z",
          "shell.execute_reply": "2022-04-23T08:54:37.60309Z"
        },
        "trusted": true,
        "colab": {
          "base_uri": "https://localhost:8080/",
          "height": 412
        },
        "id": "1Z7MDEVgpltv",
        "outputId": "aedb7929-c20a-4048-c4c2-e9cea268dddc"
      },
      "execution_count": 66,
      "outputs": [
        {
          "output_type": "display_data",
          "data": {
            "text/plain": [
              "<Figure size 576x432 with 1 Axes>"
            ],
            "image/png": "[encoded data removed]"
          },
          "metadata": {}
        }
      ]
    },
    {
      "cell_type": "markdown",
      "source": [
        "This quadratic is of the form $ax^2+bx+c$, with parameters $a=3$, $b=2$, $c=1$. To make it easier to try out different quadratics for fitting a model to the data we'll create, let's create a function that calculates the value of a point on any quadratic:"
      ],
      "metadata": {
        "id": "uwJ0HhdIpltv"
      }
    },
    {
      "cell_type": "code",
      "source": [
        "def quad(a, b, c, x): return a*x**2 + b*x + c"
      ],
      "metadata": {
        "execution": {
          "iopub.status.busy": "2022-04-23T08:54:37.605073Z",
          "iopub.execute_input": "2022-04-23T08:54:37.605295Z",
          "iopub.status.idle": "2022-04-23T08:54:37.610024Z",
          "shell.execute_reply.started": "2022-04-23T08:54:37.605268Z",
          "shell.execute_reply": "2022-04-23T08:54:37.609103Z"
        },
        "trusted": true,
        "id": "6dRb4ws6pltv"
      },
      "execution_count": 45,
      "outputs": []
    },
    {
      "cell_type": "code",
      "source": [
        "quad(3,2,1,1.5)"
      ],
      "metadata": {
        "colab": {
          "base_uri": "https://localhost:8080/"
        },
        "id": "Iy6plQdbraXg",
        "outputId": "02930550-aff4-484b-d746-1a7754440fbe"
      },
      "execution_count": 46,
      "outputs": [
        {
          "output_type": "execute_result",
          "data": {
            "text/plain": [
              "10.75"
            ]
          },
          "metadata": {},
          "execution_count": 46
        }
      ]
    },
    {
      "cell_type": "markdown",
      "source": [
        "If we fix some particular values of a, b, and c, then we'll have made a quadratic. To fix values (always use the same) passed to a function in python, we use the `partial` function, like so:"
      ],
      "metadata": {
        "id": "scxv0TXNpltw"
      }
    },
    {
      "cell_type": "code",
      "source": [
        "from functools import partial\n",
        "def mk_quad(a,b,c): return partial(quad, a,b,c)"
      ],
      "metadata": {
        "execution": {
          "iopub.status.busy": "2022-04-23T08:54:37.611932Z",
          "iopub.execute_input": "2022-04-23T08:54:37.612415Z",
          "iopub.status.idle": "2022-04-23T08:54:37.622926Z",
          "shell.execute_reply.started": "2022-04-23T08:54:37.612377Z",
          "shell.execute_reply": "2022-04-23T08:54:37.622077Z"
        },
        "trusted": true,
        "id": "MAGI0cpipltw"
      },
      "execution_count": 47,
      "outputs": []
    },
    {
      "cell_type": "markdown",
      "source": [
        "So for instance, we can recreate our previous quadratic using a=3, b=2, c=1. We only need to supply x:"
      ],
      "metadata": {
        "id": "vBoz3DHmpltw"
      }
    },
    {
      "cell_type": "code",
      "source": [
        "f2 = mk_quad(3,2,1)\n",
        "plot_function(f2)"
      ],
      "metadata": {
        "execution": {
          "iopub.status.busy": "2022-04-23T08:54:37.624649Z",
          "iopub.execute_input": "2022-04-23T08:54:37.625357Z",
          "iopub.status.idle": "2022-04-23T08:54:37.829696Z",
          "shell.execute_reply.started": "2022-04-23T08:54:37.62531Z",
          "shell.execute_reply": "2022-04-23T08:54:37.828997Z"
        },
        "trusted": true,
        "colab": {
          "base_uri": "https://localhost:8080/",
          "height": 389
        },
        "id": "AUN2Q39Upltx",
        "outputId": "6263ab11-1818-41af-ac65-bde449924c0a"
      },
      "execution_count": 67,
      "outputs": [
        {
          "output_type": "display_data",
          "data": {
            "text/plain": [
              "<Figure size 576x432 with 1 Axes>"
            ],
            "image/png": "[encoded data removed]"
          },
          "metadata": {}
        }
      ]
    },
    {
      "cell_type": "markdown",
      "source": [
        "Now just pass the value of x=1.5, for example:"
      ],
      "metadata": {
        "id": "w2VwHL1JumV9"
      }
    },
    {
      "cell_type": "code",
      "source": [
        "f2(1.5)"
      ],
      "metadata": {
        "colab": {
          "base_uri": "https://localhost:8080/"
        },
        "id": "qkywKWOsuaYo",
        "outputId": "7c068cd6-9368-41e0-ad32-2e7fab4ccde6"
      },
      "execution_count": 49,
      "outputs": [
        {
          "output_type": "execute_result",
          "data": {
            "text/plain": [
              "10.75"
            ]
          },
          "metadata": {},
          "execution_count": 49
        }
      ]
    },
    {
      "cell_type": "markdown",
      "source": [
        "Now let's simulate making some noisy measurements of our quadratic `f`. We'll then use gradient descent to see if we can recreate the original function from the data.\n",
        "\n",
        "Here's a couple of functions to add some random noise to data:"
      ],
      "metadata": {
        "id": "tFisiXhTpltx"
      }
    },
    {
      "cell_type": "code",
      "source": [
        "from numpy.random import normal,seed, uniform\n",
        "np.random.seed(42)\n",
        "\n",
        "def noise(x, scale): return np.random.normal(scale=scale, size=x.shape)\n",
        "def add_noise(x, mult, add): return x * (1+noise(x,mult)) + noise(x,add)"
      ],
      "metadata": {
        "execution": {
          "iopub.status.busy": "2022-04-23T08:54:37.831069Z",
          "iopub.execute_input": "2022-04-23T08:54:37.831627Z",
          "iopub.status.idle": "2022-04-23T08:54:37.838391Z",
          "shell.execute_reply.started": "2022-04-23T08:54:37.831581Z",
          "shell.execute_reply": "2022-04-23T08:54:37.837454Z"
        },
        "trusted": true,
        "id": "GDhh45e2pltx"
      },
      "execution_count": 50,
      "outputs": []
    },
    {
      "cell_type": "code",
      "source": [
        "from numpy import isscalar\n",
        "\n",
        "def tnoise(x, scale):\n",
        "    # If x is a scalar (like an integer), convert it to a tuple of size 1\n",
        "    # This ensures the normal function gets a shape-like input\n",
        "    size = (1,) if np.isscalar(x) else x.shape\n",
        "    return np.random.normal(scale=scale, size=size)\n",
        "\n",
        "def tadd_noise(x, mult, add): return x * (1+tnoise(x,mult)) + tnoise(x,add)\n",
        "\n",
        "t = tadd_noise(f(.5),0.15,1.5)\n",
        "t"
      ],
      "metadata": {
        "id": "j-ozeZd6w4SV",
        "outputId": "3f1f253f-d819-4580-c4ec-5cc6be64eab9",
        "colab": {
          "base_uri": "https://localhost:8080/"
        }
      },
      "execution_count": 51,
      "outputs": [
        {
          "output_type": "execute_result",
          "data": {
            "text/plain": [
              "array([2.74749814])"
            ]
          },
          "metadata": {},
          "execution_count": 51
        }
      ]
    },
    {
      "cell_type": "markdown",
      "source": [
        "Let's use the now to create our noisy measurements based on the quadratic above:"
      ],
      "metadata": {
        "id": "zIS7Es2xplty"
      }
    },
    {
      "cell_type": "code",
      "source": [
        "# Original\n",
        "np.random.seed(42)\n",
        "\n",
        "x = torch.linspace(-2, 2, steps=20)[:,None]\n",
        "y = add_noise(f(x), 0.15, 1.5)"
      ],
      "metadata": {
        "execution": {
          "iopub.status.busy": "2022-04-23T08:54:37.839727Z",
          "iopub.execute_input": "2022-04-23T08:54:37.83997Z",
          "iopub.status.idle": "2022-04-23T08:54:37.86166Z",
          "shell.execute_reply.started": "2022-04-23T08:54:37.839939Z",
          "shell.execute_reply": "2022-04-23T08:54:37.861067Z"
        },
        "trusted": true,
        "id": "Rp-YcpmSplty"
      },
      "execution_count": 68,
      "outputs": []
    },
    {
      "cell_type": "code",
      "source": [
        "# From online course\n",
        "np.random.seed(42)\n",
        "\n",
        "# creates a tenor, vector from -2->2 with 20 points\n",
        "x = torch.linspace(-2, 2, steps=20)[:,None]\n",
        "y = add_noise(f(x), 0.3, 1.5)\n",
        "plt.scatter(x,y)"
      ],
      "metadata": {
        "execution": {
          "iopub.status.busy": "2022-04-23T08:54:37.839727Z",
          "iopub.execute_input": "2022-04-23T08:54:37.83997Z",
          "iopub.status.idle": "2022-04-23T08:54:37.86166Z",
          "shell.execute_reply.started": "2022-04-23T08:54:37.839939Z",
          "shell.execute_reply": "2022-04-23T08:54:37.861067Z"
        },
        "trusted": true,
        "id": "rRxqduW4v2La",
        "outputId": "68bbbfe8-84e8-4da3-859a-3bd531302f7a",
        "colab": {
          "base_uri": "https://localhost:8080/",
          "height": 406
        }
      },
      "execution_count": 69,
      "outputs": [
        {
          "output_type": "execute_result",
          "data": {
            "text/plain": [
              "<matplotlib.collections.PathCollection at 0x7c5690c28fd0>"
            ]
          },
          "metadata": {},
          "execution_count": 69
        },
        {
          "output_type": "display_data",
          "data": {
            "text/plain": [
              "<Figure size 576x432 with 1 Axes>"
            ],
            "image/png": "[encoded data removed]"
          },
          "metadata": {}
        }
      ]
    },
    {
      "cell_type": "markdown",
      "source": [
        "Here's the first few values of each of `x` and `y`:"
      ],
      "metadata": {
        "id": "S0zPPvejpltz"
      }
    },
    {
      "cell_type": "code",
      "source": [
        "x[:5],y[:5]"
      ],
      "metadata": {
        "execution": {
          "iopub.status.busy": "2022-04-23T08:54:37.862576Z",
          "iopub.execute_input": "2022-04-23T08:54:37.863311Z",
          "iopub.status.idle": "2022-04-23T08:54:37.901746Z",
          "shell.execute_reply.started": "2022-04-23T08:54:37.863275Z",
          "shell.execute_reply": "2022-04-23T08:54:37.9009Z"
        },
        "trusted": true,
        "colab": {
          "base_uri": "https://localhost:8080/"
        },
        "id": "DOxgGgyspltz",
        "outputId": "8ac0af72-4fe0-47a3-837b-cadc3927387a"
      },
      "execution_count": 70,
      "outputs": [
        {
          "output_type": "execute_result",
          "data": {
            "text/plain": [
              "(tensor([[-2.0000],\n",
              "         [-1.7895],\n",
              "         [-1.5789],\n",
              "         [-1.3684],\n",
              "         [-1.1579]]),\n",
              " tensor([[12.5396],\n",
              "         [ 6.3975],\n",
              "         [ 6.4566],\n",
              "         [ 3.5170],\n",
              "         [ 1.6997]], dtype=torch.float64))"
            ]
          },
          "metadata": {},
          "execution_count": 70
        }
      ]
    },
    {
      "cell_type": "markdown",
      "source": [
        "As you can see, they're *tensors*. A tensor is just like an `array` in numpy (if you're not familiar with numpy, I strongly recommend reading [this great book](https://wesmckinney.com/book/), because it's a critical foundation for nearly all numeric programming in Python. Furthermore, PyTorch, which most researchers use for deep learning, is modeled closely on numpy.) A tensor can be a single number (a *scalar* or *rank-0 tensor*), a list of numbers (a *vector* or *rank-1 tensor*), a table of numbers (a *matrix* or *rank-0 tensor*), a table of tables of numbers (a *rank-3 tensor*), and so forth.\n",
        "\n",
        "We're not going to learn much about our data by just looking at the raw numbers, so let's draw a picture:"
      ],
      "metadata": {
        "id": "zLWZJFR6pltz"
      }
    },
    {
      "cell_type": "code",
      "source": [
        "plt.scatter(x,y);"
      ],
      "metadata": {
        "execution": {
          "iopub.status.busy": "2022-04-23T08:54:37.903248Z",
          "iopub.execute_input": "2022-04-23T08:54:37.903736Z",
          "iopub.status.idle": "2022-04-23T08:54:38.141765Z",
          "shell.execute_reply.started": "2022-04-23T08:54:37.903689Z",
          "shell.execute_reply": "2022-04-23T08:54:38.140818Z"
        },
        "trusted": true,
        "colab": {
          "base_uri": "https://localhost:8080/",
          "height": 389
        },
        "id": "hiqyuImOplt0",
        "outputId": "d1de746b-26cf-4d4c-f99b-e4685664d338"
      },
      "execution_count": 55,
      "outputs": [
        {
          "output_type": "display_data",
          "data": {
            "text/plain": [
              "<Figure size 576x432 with 1 Axes>"
            ],
            "image/png": "[encoded data removed]"
          },
          "metadata": {}
        }
      ]
    },
    {
      "cell_type": "markdown",
      "source": [
        "How do we find values of a, b, and c which fit this data? One approach is to try a few values and see what fits. Here's a function which overlays a quadratic on top of our data, along with some sliders to change a, b, and c, and see how it looks:"
      ],
      "metadata": {
        "id": "6eDkprk1plt0"
      }
    },
    {
      "cell_type": "code",
      "source": [
        "from ipywidgets import interact\n",
        "\n",
        "@interact(a=1.5, b=1.5, c=1.5)\n",
        "def plot_quad(a, b, c):\n",
        "    plt.scatter(x,y)\n",
        "    plot_function(mk_quad(a,b,c), ylim=(-3,12))\n",
        "    plt.show()"
      ],
      "metadata": {
        "execution": {
          "iopub.status.busy": "2022-04-23T08:54:38.143544Z",
          "iopub.execute_input": "2022-04-23T08:54:38.143753Z",
          "iopub.status.idle": "2022-04-23T08:54:38.372553Z",
          "shell.execute_reply.started": "2022-04-23T08:54:38.143725Z",
          "shell.execute_reply": "2022-04-23T08:54:38.37172Z"
        },
        "trusted": true,
        "colab": {
          "base_uri": "https://localhost:8080/",
          "height": 490,
          "referenced_widgets": [
            "ffd963eb87de4891981e3d2bad4fbeae",
            "d94a37ddc1524ba68972f6c554da551f",
            "f8cd8b293ba34501824e6f0025f13fd2",
            "d29af5187a874c9db99777de3ac359bd",
            "9b670b87279742d1bde042eceee61048",
            "87f52fb07ed84a5dbcd36427d21bc089",
            "8332a186e8094d80a43427f6793f5465",
            "1289da9e84344192bec0fa71e1a6f4c9",
            "421dd878deac4326b3e295cb10d5990b",
            "606fe6d27ed5427788332d26db5e7a6b",
            "e56007ea632840f2a654c660ef3dc7c8",
            "8dd76225c1824de98443945befc2d41b",
            "3bed49758971487094a84482b5281312"
          ]
        },
        "id": "oKRsACvBplt0",
        "outputId": "6f50d48c-0734-49b2-8c3a-433d92ff56d8"
      },
      "execution_count": 71,
      "outputs": [
        {
          "output_type": "display_data",
          "data": {
            "text/plain": [
              "interactive(children=(FloatSlider(value=1.5, description='a', max=4.5, min=-1.5), FloatSlider(value=1.5, descr…"
            ],
            "application/vnd.jupyter.widget-view+json": {
              "version_major": 2,
              "version_minor": 0,
              "model_id": "ffd963eb87de4891981e3d2bad4fbeae"
            }
          },
          "metadata": {}
        }
      ]
    },
    {
      "cell_type": "markdown",
      "source": [
        "**Reminder**: If the sliders above aren't working for you, that's because the interactive features of this notebook don't work in Kaggle's *Reader* mode. They only work in *Edit* mode. Please click \"**Copy & Edit**\" in the top right of this window, then in the menu click *Run* and then *Run all*. Then you'll be able to use all the interactive sliders in this notebook."
      ],
      "metadata": {
        "id": "wuEvXMYoplt1"
      }
    },
    {
      "cell_type": "markdown",
      "source": [
        "Try moving slider `a` a bit to the left. Does that look better or worse? How about if you move it a bit to the right? Find out which direction seems to improve the fit of the quadratic to the data, and move the slider a bit in that direction. Next, do the same for slider `b`: first figure out which direction improves the fit, then move it a bit in that direction. Then do the same for `c`.\n",
        "\n",
        "OK, now go back to slider `a` and repeat the process. Do it again for `b` and `c` as well.\n",
        "\n",
        "Did you notice that by going back and doing the sliders a second time that you were able to improve things a bit further? That's an important insight -- it's only after changing `b` and `c`, for instance, that you realise that `a` actually needs some adjustment based on those new values.\n",
        "\n",
        "One thing that's making this tricky is that we don't really have a great sense of whether our fit is really better or worse. It would be easier if we had a numeric measure of that. On easy metric we could use is *mean absolute error* -- which is the distance from each data point to the curve.\n",
        "\n",
        "This is called a loss function:"
      ],
      "metadata": {
        "id": "RKVd7CfVplt1"
      }
    },
    {
      "cell_type": "code",
      "source": [
        "def mae(preds, acts): return (torch.abs(preds-acts)).mean()"
      ],
      "metadata": {
        "execution": {
          "iopub.status.busy": "2022-04-23T08:55:06.428918Z",
          "iopub.execute_input": "2022-04-23T08:55:06.429237Z",
          "iopub.status.idle": "2022-04-23T08:55:06.433738Z",
          "shell.execute_reply.started": "2022-04-23T08:55:06.429205Z",
          "shell.execute_reply": "2022-04-23T08:55:06.432713Z"
        },
        "trusted": true,
        "id": "pYhkQpuzplt1"
      },
      "execution_count": 72,
      "outputs": []
    },
    {
      "cell_type": "markdown",
      "source": [
        "We'll update our interactive function to print this at the top for us.\n",
        "\n",
        "Use this to repeat the approach we took before to try to find the best fit, but this time just use the value of the metric to decide which direction to move each slider, and how far to move it.\n",
        "\n",
        "This time around, try doing it in the opposite order: `c`, then `b`, then `a`.\n",
        "\n",
        "You'll probably find that you have to go through the set of sliders a couple of times to get the best fit."
      ],
      "metadata": {
        "id": "-uMSS-Bgplt2"
      }
    },
    {
      "cell_type": "code",
      "source": [
        "@interact(a=1.1, b=1.1, c=1.1)\n",
        "def plot_quad(a, b, c):\n",
        "    f = mk_quad(a,b,c)\n",
        "    plt.scatter(x,y)\n",
        "    loss = mae(f(x), y)\n",
        "    plot_function(f, ylim=(-3,12), title=f\"MAE: {loss:.2f}\")\n",
        "    plt.show()"
      ],
      "metadata": {
        "execution": {
          "iopub.status.busy": "2022-04-23T08:55:07.451295Z",
          "iopub.execute_input": "2022-04-23T08:55:07.452152Z",
          "iopub.status.idle": "2022-04-23T08:55:07.701428Z",
          "shell.execute_reply.started": "2022-04-23T08:55:07.452102Z",
          "shell.execute_reply": "2022-04-23T08:55:07.700643Z"
        },
        "trusted": true,
        "colab": {
          "base_uri": "https://localhost:8080/",
          "height": 504,
          "referenced_widgets": [
            "3aae129311b14071a75ccc025ad241ea",
            "7c5185a9a5e04571ac5bd6c1d1d25770",
            "4180c7fb99ce4543bade7d773fdf7596",
            "da29d80313424914a5189c34bc29f6ae",
            "855ddbaa95474105b54f36c01eafd1ee",
            "1c2b49d93c37444a839becc7531a126f",
            "b23a354d069b401880babbb6ca8a63ae",
            "88fa8bee039941d19f9f2522c8b548cc",
            "fc57005ebd064170ba9971121c96be33",
            "d27ff5c4aa9d400585e505fc3385a275",
            "7fd5bd3d14964914b5a54ed5231f141f",
            "dd87639d119e4383b44e87994c26df24",
            "463c207596d34baa8908b3f4628e5e08"
          ]
        },
        "collapsed": true,
        "id": "hWk64hP7plt2",
        "outputId": "c1095022-1c4a-4405-a663-e04fdfc15041"
      },
      "execution_count": 78,
      "outputs": [
        {
          "output_type": "display_data",
          "data": {
            "text/plain": [
              "interactive(children=(FloatSlider(value=1.1, description='a', max=3.3000000000000003, min=-1.1), FloatSlider(v…"
            ],
            "application/vnd.jupyter.widget-view+json": {
              "version_major": 2,
              "version_minor": 0,
              "model_id": "3aae129311b14071a75ccc025ad241ea"
            }
          },
          "metadata": {}
        }
      ]
    },
    {
      "cell_type": "markdown",
      "source": [
        "In a modern neural network we'll often have tens of millions of parameters to fit, or more, and thousands or millions of data points to fit them to. We're not going to be able to do that by moving sliders around! We'll need to automate this process.\n",
        "\n",
        "Thankfully, that turns out to be pretty straightforward. We can use calculus to figure out, for each parameter, whether we should increase or decrease it.\n",
        "\n",
        "Uh oh, calculus! If you haven't touched calculus since school, you might be getting ready to run away at this point. But don't worry, we don't actually need much calculus at all. Just derivatives, which measure the rate of change of a function. We don't even need to calculate them ourselves, because the computer will do it for us! If you've forgotten what a derivitive is, then watch the first three of these fantastic [videos by Professor Dave](https://www.youtube.com/playlist?list=PLybg94GvOJ9ELZEe9s2NXTKr41Yedbw7M). It's only 15 minutes in total, so give it a go! Then come back here and we'll continue on our journey..."
      ],
      "metadata": {
        "id": "vxuBXyF2plt2"
      }
    },
    {
      "cell_type": "markdown",
      "source": [
        "## Automating gradient descent"
      ],
      "metadata": {
        "id": "CXytA47Eplt2"
      }
    },
    {
      "cell_type": "markdown",
      "source": [
        "The basic idea is this: if we know the *gradient* of our `mae()` function *with respect to* our parameters, `a`, `b`, and `c`, then that means we know how adjusting (for instance) `a` will change the value of `mae()`. If, say, `a` has a *negative* gradient, then we know that increasing `a` will decrease `mae()`. Then we know that's what we need to do, since we trying to make `mae()` as low as possible.\n",
        "\n",
        "So, we find the gradient of `mae()` for each of our parameters, and then adjust our parameters a bit in the *opposite* direction to the sign of the gradient.\n",
        "\n",
        "To do this, first we need a function that takes all the parameters `a`, `b`, and `c` as a single vector input, and returns the value `mae()` based on those parameters:"
      ],
      "metadata": {
        "id": "Te1Zl07Hplt3"
      }
    },
    {
      "cell_type": "code",
      "source": [
        "def quad_mae(params):\n",
        "    f = mk_quad(*params)\n",
        "    return mae(f(x), y)"
      ],
      "metadata": {
        "execution": {
          "iopub.status.busy": "2022-04-22T22:28:41.831976Z",
          "iopub.execute_input": "2022-04-22T22:28:41.832211Z",
          "iopub.status.idle": "2022-04-22T22:28:41.837761Z",
          "shell.execute_reply.started": "2022-04-22T22:28:41.832181Z",
          "shell.execute_reply": "2022-04-22T22:28:41.836892Z"
        },
        "trusted": true,
        "id": "Qs0wDXKhplt4"
      },
      "execution_count": 106,
      "outputs": []
    },
    {
      "cell_type": "markdown",
      "source": [
        "Let's try it:"
      ],
      "metadata": {
        "id": "wmy4qFV-plt4"
      }
    },
    {
      "cell_type": "code",
      "source": [
        "quad_mae([1.1, 1.1, 1.1])"
      ],
      "metadata": {
        "execution": {
          "iopub.status.busy": "2022-04-22T22:28:41.839427Z",
          "iopub.execute_input": "2022-04-22T22:28:41.839663Z",
          "iopub.status.idle": "2022-04-22T22:28:41.853343Z",
          "shell.execute_reply.started": "2022-04-22T22:28:41.839635Z",
          "shell.execute_reply": "2022-04-22T22:28:41.852644Z"
        },
        "trusted": true,
        "colab": {
          "base_uri": "https://localhost:8080/"
        },
        "id": "TZ9n2mkGplt5",
        "outputId": "fe40ad00-c87e-466c-b152-58b8648cb16f"
      },
      "execution_count": 133,
      "outputs": [
        {
          "output_type": "execute_result",
          "data": {
            "text/plain": [
              "tensor(2.1383, dtype=torch.float64)"
            ]
          },
          "metadata": {},
          "execution_count": 133
        }
      ]
    },
    {
      "cell_type": "markdown",
      "source": [
        "Yup, that's the same as the starting `mae()` we had in our plot before.\n",
        "\n",
        "We're first going to do exactly the same thing as we did manually -- pick some arbritrary starting point for our parameters. We'll put them all into a single tensor:"
      ],
      "metadata": {
        "id": "RPNetZGNplt6"
      }
    },
    {
      "cell_type": "code",
      "source": [
        "# Rank 1 tensor\n",
        "abc = torch.tensor([1.1,1.1,1.1])\n",
        "abc"
      ],
      "metadata": {
        "execution": {
          "iopub.status.busy": "2022-04-22T22:28:41.854708Z",
          "iopub.execute_input": "2022-04-22T22:28:41.855001Z",
          "iopub.status.idle": "2022-04-22T22:28:41.863677Z",
          "shell.execute_reply.started": "2022-04-22T22:28:41.854965Z",
          "shell.execute_reply": "2022-04-22T22:28:41.862424Z"
        },
        "trusted": true,
        "colab": {
          "base_uri": "https://localhost:8080/"
        },
        "id": "r_PvaC5jplt6",
        "outputId": "f23ec605-cda0-4cea-a3ae-cae27c077754"
      },
      "execution_count": 140,
      "outputs": [
        {
          "output_type": "execute_result",
          "data": {
            "text/plain": [
              "tensor([1.1000, 1.1000, 1.1000])"
            ]
          },
          "metadata": {},
          "execution_count": 140
        }
      ]
    },
    {
      "cell_type": "markdown",
      "source": [
        "To tell PyTorch that we want it to calculate gradients for these parameters, we need to call `requires_grad_()`:"
      ],
      "metadata": {
        "id": "X4Y3CTcpplt6"
      }
    },
    {
      "cell_type": "code",
      "source": [
        "abc.requires_grad_()"
      ],
      "metadata": {
        "execution": {
          "iopub.status.busy": "2022-04-22T22:28:41.865105Z",
          "iopub.execute_input": "2022-04-22T22:28:41.86557Z",
          "iopub.status.idle": "2022-04-22T22:28:41.881016Z",
          "shell.execute_reply.started": "2022-04-22T22:28:41.865497Z",
          "shell.execute_reply": "2022-04-22T22:28:41.879681Z"
        },
        "trusted": true,
        "colab": {
          "base_uri": "https://localhost:8080/"
        },
        "id": "PMaILBHmplt6",
        "outputId": "fbccdae3-5185-4013-9dba-7e00c4c2ff77"
      },
      "execution_count": 141,
      "outputs": [
        {
          "output_type": "execute_result",
          "data": {
            "text/plain": [
              "tensor([1.1000, 1.1000, 1.1000], requires_grad=True)"
            ]
          },
          "metadata": {},
          "execution_count": 141
        }
      ]
    },
    {
      "cell_type": "markdown",
      "source": [
        "We can now calculate `mae()`. Generally, when doing gradient descent, the thing we're trying to minimise is called the *loss*:"
      ],
      "metadata": {
        "id": "OHBfx0LLplt6"
      }
    },
    {
      "cell_type": "code",
      "source": [
        "loss = quad_mae(abc)\n",
        "loss"
      ],
      "metadata": {
        "execution": {
          "iopub.status.busy": "2022-04-22T22:28:41.882498Z",
          "iopub.execute_input": "2022-04-22T22:28:41.882908Z",
          "iopub.status.idle": "2022-04-22T22:28:41.894811Z",
          "shell.execute_reply.started": "2022-04-22T22:28:41.882865Z",
          "shell.execute_reply": "2022-04-22T22:28:41.893828Z"
        },
        "trusted": true,
        "colab": {
          "base_uri": "https://localhost:8080/"
        },
        "id": "HmZzm_yWplt6",
        "outputId": "24be9817-78ba-4da5-83f0-bfca67916217"
      },
      "execution_count": 142,
      "outputs": [
        {
          "output_type": "execute_result",
          "data": {
            "text/plain": [
              "tensor(2.1383, dtype=torch.float64, grad_fn=<MeanBackward0>)"
            ]
          },
          "metadata": {},
          "execution_count": 142
        }
      ]
    },
    {
      "cell_type": "markdown",
      "source": [
        "To get PyTorch to now calculate the gradients, we need to call `backward()`"
      ],
      "metadata": {
        "id": "a4Wp4a5splt_"
      }
    },
    {
      "cell_type": "code",
      "source": [
        "loss.backward()"
      ],
      "metadata": {
        "execution": {
          "iopub.status.busy": "2022-04-22T22:28:41.896144Z",
          "iopub.execute_input": "2022-04-22T22:28:41.896493Z",
          "iopub.status.idle": "2022-04-22T22:28:41.914719Z",
          "shell.execute_reply.started": "2022-04-22T22:28:41.896462Z",
          "shell.execute_reply": "2022-04-22T22:28:41.913717Z"
        },
        "trusted": true,
        "id": "9GD1nrJ-plt_"
      },
      "execution_count": 143,
      "outputs": []
    },
    {
      "cell_type": "markdown",
      "source": [
        "The gradients will be stored for us in an attribute called `grad`:"
      ],
      "metadata": {
        "id": "WWnGcUUwpluA"
      }
    },
    {
      "cell_type": "code",
      "source": [
        "abc.grad"
      ],
      "metadata": {
        "execution": {
          "iopub.status.busy": "2022-04-22T22:28:41.916372Z",
          "iopub.execute_input": "2022-04-22T22:28:41.91704Z",
          "iopub.status.idle": "2022-04-22T22:28:41.925299Z",
          "shell.execute_reply.started": "2022-04-22T22:28:41.916988Z",
          "shell.execute_reply": "2022-04-22T22:28:41.924407Z"
        },
        "trusted": true,
        "colab": {
          "base_uri": "https://localhost:8080/"
        },
        "id": "a5ItI6jSpluA",
        "outputId": "7e1c4588-25fe-4f99-8717-73c0ac99e8c8"
      },
      "execution_count": 144,
      "outputs": [
        {
          "output_type": "execute_result",
          "data": {
            "text/plain": [
              "tensor([-1.3529, -0.0316, -0.5000])"
            ]
          },
          "metadata": {},
          "execution_count": 144
        }
      ]
    },
    {
      "cell_type": "markdown",
      "source": [
        "According to these gradients, all our parameters are a little low. So let's increase them a bit. If we subtract the gradient, multiplied by a small number, that should improve them a bit:"
      ],
      "metadata": {
        "id": "0JWNckCypluA"
      }
    },
    {
      "cell_type": "code",
      "source": [
        "with torch.no_grad():\n",
        "    abc -= abc.grad*0.01\n",
        "    loss = quad_mae(abc)\n",
        "    print(abc)\n",
        "\n",
        "print(f'loss={loss:.2f}')\n",
        "print (abc.grad)"
      ],
      "metadata": {
        "execution": {
          "iopub.status.busy": "2022-04-22T22:28:41.927221Z",
          "iopub.execute_input": "2022-04-22T22:28:41.927714Z",
          "iopub.status.idle": "2022-04-22T22:28:41.941471Z",
          "shell.execute_reply.started": "2022-04-22T22:28:41.927665Z",
          "shell.execute_reply": "2022-04-22T22:28:41.940784Z"
        },
        "trusted": true,
        "colab": {
          "base_uri": "https://localhost:8080/"
        },
        "id": "HT6ORLNGpluA",
        "outputId": "7d86fb2b-2638-426a-cc42-5a7b08618bf2"
      },
      "execution_count": 126,
      "outputs": [
        {
          "output_type": "stream",
          "name": "stdout",
          "text": [
            "tensor([1.2894, 1.1044, 1.1700], requires_grad=True)\n",
            "loss=1.85\n",
            "tensor([-1.3529, -0.0316, -0.5000])\n"
          ]
        }
      ]
    },
    {
      "cell_type": "markdown",
      "source": [
        "Yes, our loss has gone down!\n",
        "\n",
        "The \"small number\" we multiply is called the *learning rate*, and is the most important *hyper-parameter* to set when training a neural network.\n",
        "\n",
        "BTW, you'll see we had to wrap our calculation of the new parameters in `with torch.no_grad()`. That disables the calculation of gradients for any operations inside that context manager. We have to do that, because `abc -= abc.grad*0.01` isn't actually part of our quadratic model, so we don't want derivitives to include that calculation.\n",
        "\n",
        "We can use a loop to do a few more iterations of this:"
      ],
      "metadata": {
        "id": "XLCbZaTFpluA"
      }
    },
    {
      "cell_type": "code",
      "source": [
        "for i in range(20):\n",
        "    loss = quad_mae(abc)\n",
        "    loss.backward()\n",
        "    with torch.no_grad(): abc -= abc.grad*0.01\n",
        "    print(f'step={i}; loss={loss:.2f}')\n",
        "    print(abc)\n",
        "    print(abc.grad)"
      ],
      "metadata": {
        "execution": {
          "iopub.status.busy": "2022-04-22T22:28:41.942822Z",
          "iopub.execute_input": "2022-04-22T22:28:41.943242Z",
          "iopub.status.idle": "2022-04-22T22:28:41.968186Z",
          "shell.execute_reply.started": "2022-04-22T22:28:41.943202Z",
          "shell.execute_reply": "2022-04-22T22:28:41.967081Z"
        },
        "trusted": true,
        "colab": {
          "base_uri": "https://localhost:8080/"
        },
        "id": "WBRjbA08pluA",
        "outputId": "a717f963-ed8c-4115-cebe-117204a349bb"
      },
      "execution_count": 145,
      "outputs": [
        {
          "output_type": "stream",
          "name": "stdout",
          "text": [
            "step=0; loss=2.14\n",
            "tensor([1.1271, 1.1006, 1.1100], requires_grad=True)\n",
            "tensor([-2.7058, -0.0632, -1.0000])\n",
            "step=1; loss=2.10\n",
            "tensor([1.1676, 1.1016, 1.1250], requires_grad=True)\n",
            "tensor([-4.0587, -0.0947, -1.5000])\n",
            "step=2; loss=2.03\n",
            "tensor([1.2218, 1.1028, 1.1450], requires_grad=True)\n",
            "tensor([-5.4116, -0.1263, -2.0000])\n",
            "step=3; loss=1.95\n",
            "tensor([1.2894, 1.1044, 1.1700], requires_grad=True)\n",
            "tensor([-6.7645, -0.1579, -2.5000])\n",
            "step=4; loss=1.85\n",
            "tensor([1.3706, 1.1063, 1.2000], requires_grad=True)\n",
            "tensor([-8.1175, -0.1895, -3.0000])\n",
            "step=5; loss=1.73\n",
            "tensor([1.4626, 1.1085, 1.2330], requires_grad=True)\n",
            "tensor([-9.2022, -0.2211, -3.3000])\n",
            "step=6; loss=1.62\n",
            "tensor([1.5655, 1.1111, 1.2690], requires_grad=True)\n",
            "tensor([-10.2870,  -0.2526,  -3.6000])\n",
            "step=7; loss=1.50\n",
            "tensor([1.6792, 1.1139, 1.3080], requires_grad=True)\n",
            "tensor([-11.3717,  -0.2842,  -3.9000])\n",
            "step=8; loss=1.42\n",
            "tensor([1.7966, 1.1133, 1.3480], requires_grad=True)\n",
            "tensor([-11.7363,   0.0632,  -4.0000])\n",
            "step=9; loss=1.38\n",
            "tensor([1.9158, 1.1092, 1.3870], requires_grad=True)\n",
            "tensor([-11.9213,   0.4105,  -3.9000])\n",
            "step=10; loss=1.36\n",
            "tensor([2.0368, 1.1016, 1.4250], requires_grad=True)\n",
            "tensor([-12.1064,   0.7579,  -3.8000])\n",
            "step=11; loss=1.37\n",
            "tensor([2.1579, 1.0919, 1.4610], requires_grad=True)\n",
            "tensor([-12.1042,   0.9684,  -3.6000])\n",
            "step=12; loss=1.39\n",
            "tensor([2.2738, 1.0805, 1.4930], requires_grad=True)\n",
            "tensor([-11.5945,   1.1368,  -3.2000])\n",
            "step=13; loss=1.46\n",
            "tensor([2.3844, 1.0680, 1.5200], requires_grad=True)\n",
            "tensor([-11.0571,   1.2526,  -2.7000])\n",
            "step=14; loss=1.53\n",
            "tensor([2.4896, 1.0543, 1.5420], requires_grad=True)\n",
            "tensor([-10.5197,   1.3684,  -2.2000])\n",
            "step=15; loss=1.60\n",
            "tensor([2.5894, 1.0395, 1.5590], requires_grad=True)\n",
            "tensor([-9.9823,  1.4842, -1.7000])\n",
            "step=16; loss=1.66\n",
            "tensor([2.6839, 1.0235, 1.5710], requires_grad=True)\n",
            "tensor([-9.4449,  1.6000, -1.2000])\n",
            "step=17; loss=1.74\n",
            "tensor([2.7679, 1.0063, 1.5760], requires_grad=True)\n",
            "tensor([-8.4089,  1.7158, -0.5000])\n",
            "step=18; loss=1.83\n",
            "tensor([2.8417, 0.9880, 1.5740], requires_grad=True)\n",
            "tensor([-7.3729,  1.8316,  0.2000])\n",
            "step=19; loss=1.90\n",
            "tensor([2.9050, 0.9685, 1.5650], requires_grad=True)\n",
            "tensor([-6.3368,  1.9474,  0.9000])\n"
          ]
        }
      ]
    },
    {
      "cell_type": "markdown",
      "source": [
        "As you can see, our loss keeps going down!\n",
        "\n",
        "If you keep running this loop for long enough however, you'll see that the loss eventually starts increasing for a while. That's because once the parameters get close to the correct answer, our parameter updates will jump right over the correct answer! To avoid this, we need to decrease our learning rate as we train. This is done using a *learning rate schedule*, and can be automated in most deep learning frameworks, such as fastai and PyTorch."
      ],
      "metadata": {
        "id": "FGnWYmGnpluA"
      }
    },
    {
      "cell_type": "markdown",
      "source": [
        "## How a neural network approximates any given function"
      ],
      "metadata": {
        "id": "k3NlMnotpluB"
      }
    },
    {
      "cell_type": "markdown",
      "source": [
        "But neural nets are much more convenient and powerful than this example showed, because we can learn much more than just a quadratic with them. How does *that* work?\n",
        "\n",
        "The trick is that a neural network is a very expressive function. In fact -- it's [infinitely expressive](https://en.wikipedia.org/wiki/Universal_approximation_theorem). A neural network can approximate any computable function, given enough parameters. A \"computable function\" can cover just about anything you can imagine: understand and translate human speech; paint a picture; diagnose a disease from medical imaging; write an essay; etc...\n",
        "\n",
        "The way a neural network approximates a function actually turns out to be very simple. The key trick is to combine two extremely basic steps:\n",
        "\n",
        "1. Matrix multiplication, which is just multiplying things together and then adding them up\n",
        "1. The function $max(x,0)$, which simply replaces all negative numbers with zero.\n",
        "\n",
        "In PyTorch, the function $max(x,0)$ is written as `np.clip(x,0)`. The combination of a linear function and this *max()* is called a *rectified linear function*, and it can be implemented like this:"
      ],
      "metadata": {
        "id": "1FOzC87npluB"
      }
    },
    {
      "cell_type": "code",
      "source": [
        "def rectified_linear(m,b,x):\n",
        "    y = m*x+b\n",
        "    return torch.clip(y, 0.)"
      ],
      "metadata": {
        "execution": {
          "iopub.status.busy": "2022-04-22T22:28:41.970051Z",
          "iopub.execute_input": "2022-04-22T22:28:41.970814Z",
          "iopub.status.idle": "2022-04-22T22:28:41.976113Z",
          "shell.execute_reply.started": "2022-04-22T22:28:41.970763Z",
          "shell.execute_reply": "2022-04-22T22:28:41.975338Z"
        },
        "trusted": true,
        "id": "X1i-QiK5pluB"
      },
      "execution_count": 146,
      "outputs": []
    },
    {
      "cell_type": "markdown",
      "source": [
        "Here's what it looks like:"
      ],
      "metadata": {
        "id": "T4_yYxRUpluB"
      }
    },
    {
      "cell_type": "code",
      "source": [
        "plot_function(partial(rectified_linear, 1,1))"
      ],
      "metadata": {
        "execution": {
          "iopub.status.busy": "2022-04-22T22:28:41.977336Z",
          "iopub.execute_input": "2022-04-22T22:28:41.978052Z",
          "iopub.status.idle": "2022-04-22T22:28:42.197682Z",
          "shell.execute_reply.started": "2022-04-22T22:28:41.978012Z",
          "shell.execute_reply": "2022-04-22T22:28:42.196709Z"
        },
        "trusted": true,
        "id": "UPMWl8OapluB"
      },
      "execution_count": null,
      "outputs": []
    },
    {
      "cell_type": "markdown",
      "source": [
        "BTW, instead of `torch.clip(y, 0.)`, we can instead use `F.relu(x)`, which does exactly the same thing. In PyTorch, `F` refers to the `torch.nn.functional` module."
      ],
      "metadata": {
        "id": "SGEEQBOypluB"
      }
    },
    {
      "cell_type": "code",
      "source": [
        "import torch.nn.functional as F\n",
        "def rectified_linear2(m,b,x): return F.relu(m*x+b)\n",
        "plot_function(partial(rectified_linear2, 1,1))"
      ],
      "metadata": {
        "execution": {
          "iopub.status.busy": "2022-04-22T22:28:42.199561Z",
          "iopub.execute_input": "2022-04-22T22:28:42.200133Z",
          "iopub.status.idle": "2022-04-22T22:28:42.40433Z",
          "shell.execute_reply.started": "2022-04-22T22:28:42.200083Z",
          "shell.execute_reply": "2022-04-22T22:28:42.403323Z"
        },
        "trusted": true,
        "colab": {
          "base_uri": "https://localhost:8080/",
          "height": 389
        },
        "id": "XpXgx-GdpluC",
        "outputId": "1f7faaf5-8312-471b-9b00-a08e3e734b16"
      },
      "execution_count": 149,
      "outputs": [
        {
          "output_type": "display_data",
          "data": {
            "text/plain": [
              "<Figure size 576x432 with 1 Axes>"
            ],
            "image/png": "[encoded data removed]"
          },
          "metadata": {}
        }
      ]
    },
    {
      "cell_type": "markdown",
      "source": [
        "To understand how this function works, try using this interactive version to play around with the parameters `m` and `b`:"
      ],
      "metadata": {
        "id": "vmRgGFXopluC"
      }
    },
    {
      "cell_type": "code",
      "source": [
        "@interact(m=1.5, b=1.5)\n",
        "def plot_relu(m, b):\n",
        "    plot_function(partial(rectified_linear, m,b), ylim=(-1,4))\n",
        "    plt.show()"
      ],
      "metadata": {
        "execution": {
          "iopub.status.busy": "2022-04-22T22:28:42.405808Z",
          "iopub.execute_input": "2022-04-22T22:28:42.406108Z",
          "iopub.status.idle": "2022-04-22T22:28:42.61219Z",
          "shell.execute_reply.started": "2022-04-22T22:28:42.406071Z",
          "shell.execute_reply": "2022-04-22T22:28:42.61144Z"
        },
        "trusted": true,
        "colab": {
          "base_uri": "https://localhost:8080/",
          "height": 458,
          "referenced_widgets": [
            "7f1afe740cf74de08b0d5184b60cdd04",
            "28425c0c38774a1a89fd0212f77528ee",
            "50f6d5768c9044fdbca73a199d5117c5",
            "4ee465917c8e46f095bf16fb839a4739",
            "0c40f5d22c584368b08bc75207c5d0cc",
            "87cf9cee58214ff18ebb88537682de1b",
            "f022338c6a9e4160930e40a402a7ff4d",
            "fbcaf216c5d541fda961a43a2cac1a81",
            "9ee8ee650fd644afa626162f13b47cf7",
            "480501f43955467b97c929968a345425"
          ]
        },
        "id": "JEdljNywpluC",
        "outputId": "e9721930-75cd-474a-b0c9-87745f5aa51e"
      },
      "execution_count": 150,
      "outputs": [
        {
          "output_type": "display_data",
          "data": {
            "text/plain": [
              "interactive(children=(FloatSlider(value=1.5, description='m', max=4.5, min=-1.5), FloatSlider(value=1.5, descr…"
            ],
            "application/vnd.jupyter.widget-view+json": {
              "version_major": 2,
              "version_minor": 0,
              "model_id": "7f1afe740cf74de08b0d5184b60cdd04"
            }
          },
          "metadata": {}
        }
      ]
    },
    {
      "cell_type": "markdown",
      "source": [
        "As you see, `m` changes the slope, and `b` changes where the \"hook\" appears. This function doesn't do much on its own, but look what happens when we add two of them together:"
      ],
      "metadata": {
        "id": "R9Q03udApluC"
      }
    },
    {
      "cell_type": "code",
      "source": [
        "def double_relu(m1,b1,m2,b2,x):\n",
        "    return rectified_linear(m1,b1,x) + rectified_linear(m2,b2,x)\n",
        "\n",
        "@interact(m1=-1.5, b1=-1.5, m2=1.5, b2=1.5)\n",
        "def plot_double_relu(m1, b1, m2, b2):\n",
        "    plot_function(partial(double_relu, m1,b1,m2,b2), ylim=(-1,6))\n",
        "    plt.show()"
      ],
      "metadata": {
        "execution": {
          "iopub.status.busy": "2022-04-22T22:28:42.613745Z",
          "iopub.execute_input": "2022-04-22T22:28:42.614042Z",
          "iopub.status.idle": "2022-04-22T22:28:42.851224Z",
          "shell.execute_reply.started": "2022-04-22T22:28:42.614007Z",
          "shell.execute_reply": "2022-04-22T22:28:42.85035Z"
        },
        "trusted": true,
        "colab": {
          "base_uri": "https://localhost:8080/",
          "height": 522,
          "referenced_widgets": [
            "60f455a7b39d4fe0b12bc202039d0054",
            "a05a66526a7040d3a36a526cfdf44b13",
            "401609c8ce8c4a5fa31652d5fe3e4ebe",
            "4a261a3c6ba64275a1371d136979e3f6",
            "b5e3a60559fd49f5a789c3f7480db94c",
            "51dca388f6124c2aa329718d587682e9",
            "da7345ca79da4bb88bfabfbe9721116f",
            "1a81271f7d5242f8b2a73a24c8b489df",
            "5a6abb72224a4d438de0a18834acc6f1",
            "d3e2c93b2caf44d7a2c18fa79146d769",
            "a29122f3745047048925dabc960f19ce",
            "5691c1140f194086a1070f231a642699",
            "957d43dcacf445ffa77f8b13253de55e",
            "fe6d2cd253e14e6eaad98f017e63dd23",
            "7410b8468f32409bbff19192b487d13d",
            "1659090599924280a67d3a9a3c1c77bf"
          ]
        },
        "id": "VULQZbJDpluC",
        "outputId": "8bfc8e05-52b3-4caa-b97e-8558b440d4d5"
      },
      "execution_count": 151,
      "outputs": [
        {
          "output_type": "display_data",
          "data": {
            "text/plain": [
              "interactive(children=(FloatSlider(value=-1.5, description='m1', max=1.5, min=-4.5), FloatSlider(value=-1.5, de…"
            ],
            "application/vnd.jupyter.widget-view+json": {
              "version_major": 2,
              "version_minor": 0,
              "model_id": "60f455a7b39d4fe0b12bc202039d0054"
            }
          },
          "metadata": {}
        }
      ]
    },
    {
      "cell_type": "markdown",
      "source": [
        "If you play around with that for a while, you notice something quite profound: with enough of these rectified linear functions added together, you could approximate any function with a single input, to whatever accuracy you like! Any time the function doesn't quite match, you can just add a few more additions to the mix to make it a bit closer. As an experiment, perhaps you'd like to try creating your own `plot_triple_relu` interactive function, and maybe even include the scatter plot of our data from before, to see how close you can get?\n",
        "\n",
        "This exact same approach can be expanded to functions of 2, 3, or more parameters."
      ],
      "metadata": {
        "id": "HOTpEYL0pluD"
      }
    },
    {
      "cell_type": "markdown",
      "source": [
        "## How to recognise an owl"
      ],
      "metadata": {
        "id": "lYky9TXspluD"
      }
    },
    {
      "cell_type": "markdown",
      "source": [
        "OK great, we've created a nifty little example showing that we can drawing squiggly lines that go through some points. So what?\n",
        "\n",
        "Well... the truth is that actually drawing squiggly lines (or planes, or high-dimensional hyperplanes...) through some points is literally *all that deep learning does*! If your data points are, say, the RGB values of pixels in photos of owls, then you can create an owl-recogniser model by following the exact steps above.\n",
        "\n",
        "This may, at first, sound about as useful as the classic \"how to draw an owl\" guide:"
      ],
      "metadata": {
        "id": "qT-D9YwUpluD"
      }
    },
    {
      "cell_type": "markdown",
      "source": [
        "![image.png](attachment:c66592d3-c997-4c72-aed4-2dea579b96e1.png)"
      ],
      "metadata": {
        "id": "y3DWKLp9pluE"
      }
    },
    {
      "cell_type": "markdown",
      "source": [
        "Students often ask me at this point \"OK Jeremy, but how do neural nets *actually work*\". But at a foundational level, there is no \"step 2\". We're done -- the above steps will, given enough time and enough data, create (for example) an owl recogniser, if you feed in enough owls (and non-owls).\n",
        "\n",
        "The devil, I guess, is in the \"given enough time and enough data\" part of the above sentence. There's a *lot* of tweaks we can make to reduce both of these things. For instance, instead of running our calculations on a normal CPU, as we've done above, we could do thousands of them simultaneously by taking advantage of a GPU. We could greatly reduce the amount of computation and data needed by using a convolution instead of a matrix multiplication, which basically means skipping over a bunch of the multiplications and additions for bits that you'd guess won't be important. We could make things much faster if, instead of starting with random parameters, we start with parameters of someone else's model that does something similar to what we want (this is called *transfer learning*).\n",
        "\n",
        "And, of course, there's lots of helpful software out there to do this stuff for you without too much fuss. Like, say, [fastai](https://docs.fast.ai).\n",
        "\n",
        "Learning these things is what we teach in our [course](https://course.fast.ai), which, like everything we make, is totally free. So if you're interested in learning more, do check it out!"
      ],
      "metadata": {
        "id": "oWkFXfCjpluE"
      }
    },
    {
      "cell_type": "markdown",
      "source": [
        "As always, if you enjoyed this notebook, please upvote it to help others find it, and to encourage me to write more. If you upvote it, be careful you don't accidentally upvote your copy that's created when you click \"Copy & Edit\" -- you can find my original at [this link](https://www.kaggle.com/code/jhoward/how-does-a-neural-net-really-work)."
      ],
      "metadata": {
        "id": "XDev5qpApluE"
      }
    },
    {
      "cell_type": "code",
      "source": [],
      "metadata": {
        "id": "KZtQbzN6pluE"
      },
      "execution_count": null,
      "outputs": []
    }
  ]
}